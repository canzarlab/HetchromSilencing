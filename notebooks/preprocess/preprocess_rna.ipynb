{
 "cells": [
  {
   "cell_type": "code",
   "execution_count": 1,
   "metadata": {},
   "outputs": [],
   "source": [
    "import os\n",
    "\n",
    "import pandas as pd"
   ]
  },
  {
   "cell_type": "code",
   "execution_count": 3,
   "metadata": {},
   "outputs": [],
   "source": [
    "pd.options.mode.chained_assignment = None"
   ]
  },
  {
   "cell_type": "markdown",
   "metadata": {},
   "source": [
    "---------------------------"
   ]
  },
  {
   "cell_type": "code",
   "execution_count": 4,
   "metadata": {},
   "outputs": [],
   "source": [
    "source_dir = '/data/parastou/RNAdeg/data/AllRNA/'"
   ]
  },
  {
   "cell_type": "code",
   "execution_count": 13,
   "metadata": {},
   "outputs": [],
   "source": [
    "out_dir = '/data/parastou/RNAdeg/results/RipRna/'"
   ]
  },
  {
   "cell_type": "markdown",
   "metadata": {},
   "source": [
    "--------------"
   ]
  },
  {
   "cell_type": "markdown",
   "metadata": {},
   "source": [
    "## Workflow"
   ]
  },
  {
   "cell_type": "markdown",
   "metadata": {},
   "source": [
    "- Unzip fastq files.\n",
    "- Truncate 0-length reads from fastq files.\n",
    "- Run STAR aligner.\n",
    "- Index .bam files.\n",
    "- Remove rRNA reads from .bam and add 'GE' tag to reads which map to genes (RemrRNA).\n",
    "- Calculate and save gene counts table for all given samples from .bam files.\n",
    "- TPM-normalize gene counts table and save."
   ]
  },
  {
   "cell_type": "markdown",
   "metadata": {},
   "source": [
    "---------"
   ]
  },
  {
   "cell_type": "markdown",
   "metadata": {},
   "source": [
    "### 1 - Prepare output folders"
   ]
  },
  {
   "cell_type": "code",
   "execution_count": 14,
   "metadata": {},
   "outputs": [],
   "source": [
    "out_bam = os.path.join(out_dir, 'bams')\n",
    "out_tagged = os.path.join(out_dir, 'tagged_bams')\n",
    "xp_data = os.path.join(out_dir, 'xp_data')"
   ]
  },
  {
   "cell_type": "code",
   "execution_count": 7,
   "metadata": {},
   "outputs": [],
   "source": [
    "if not os.path.isdir(out_bam):    \n",
    "    !mkdir $out_bam"
   ]
  },
  {
   "cell_type": "code",
   "execution_count": 8,
   "metadata": {},
   "outputs": [],
   "source": [
    "if not os.path.isdir(out_tagged):    \n",
    "    !mkdir $out_tagged"
   ]
  },
  {
   "cell_type": "code",
   "execution_count": 9,
   "metadata": {},
   "outputs": [],
   "source": [
    "if not os.path.isdir(xp_data):    \n",
    "    !mkdir $xp_data"
   ]
  },
  {
   "cell_type": "markdown",
   "metadata": {},
   "source": [
    "-----------------------"
   ]
  },
  {
   "cell_type": "markdown",
   "metadata": {},
   "source": [
    "### 2 - Unzip fastq files."
   ]
  },
  {
   "cell_type": "code",
   "execution_count": 13,
   "metadata": {},
   "outputs": [],
   "source": [
    "for filename in os.listdir(source_dir):\n",
    "    if filename.endswith('bz2'):\n",
    "        \n",
    "        filepath = os.path.join(source_dir, filename)\n",
    "        !bzip2 -d $filepath"
   ]
  },
  {
   "cell_type": "markdown",
   "metadata": {},
   "source": [
    "### Optional step: remove truncated reads from fastq files."
   ]
  },
  {
   "cell_type": "code",
   "execution_count": null,
   "metadata": {},
   "outputs": [],
   "source": [
    "for filename in os.listdir(source_dir):\n",
    "    if filename.endswith('.fastq'):\n",
    "        \n",
    "        filepath = os.path.join(source_dir, filename)\n",
    "        outfilepath = os.path.join(source_dir, filename.split('.fastq')[0] + '.ztr.fastq')\n",
    "        !echo $outfilepath\n",
    "        !bioawk -cfastx 'length($seq) > 0 {print \"@\"$name\"\\n\"$seq\"\\n+\\n\"$qual} $filepath  >> $outfilepath'\n",
    "        #!rm $filepath"
   ]
  },
  {
   "cell_type": "markdown",
   "metadata": {},
   "source": [
    "### 3 - Align fastq files"
   ]
  },
  {
   "cell_type": "code",
   "execution_count": 10,
   "metadata": {},
   "outputs": [],
   "source": [
    "# Set STAR runtime parameters.\n",
    "def star_command(in_file):\n",
    "    \n",
    "    star = '/home/parastou/star_2.5.1b'\n",
    "    n_threads = 20\n",
    "    genome_dir = '/data/parastou/RNAdeg/genomes/spombe/staridx/'\n",
    "    \n",
    "    command = star + ' --runThreadN ' + str(n_threads) + ' --genomeDir ' + genome_dir + ' --readFilesIn ' \\\n",
    "    + source_dir + in_file + ' --outFileNamePrefix ' + os.path.join(out_bam , in_file.split('fastq')[0]) \\\n",
    "    + ' --outSAMtype BAM SortedByCoordinate'\n",
    "    \n",
    "    return command"
   ]
  },
  {
   "cell_type": "code",
   "execution_count": 18,
   "metadata": {
    "scrolled": false
   },
   "outputs": [
    {
     "name": "stdout",
     "output_type": "stream",
     "text": [
      "63_S2ChIPp.ztr.fastq\n",
      "/home/parastou/star_2.5.1b --runThreadN 20 --genomeDir /data/parastou/RNAdeg/genomes/spombe/staridx/ --readFilesIn /data/parastou/RNAdeg/data/AllChIP/63_S2ChIPp.ztr.fastq --outFileNamePrefix /data/parastou/RNAdeg/results/RipChip/bams/63_S2ChIPp.ztr. --outSAMtype BAM SortedByCoordinate\n",
      "Oct 05 10:08:35 ..... Started STAR run\n",
      "Oct 05 10:08:35 ..... Loading genome\n",
      "Oct 05 10:08:35 ..... Started mapping\n",
      "Oct 05 10:10:42 ..... Started sorting BAM\n",
      "Oct 05 10:10:46 ..... Finished successfully\n"
     ]
    }
   ],
   "source": [
    "# Run STAR\n",
    "for filename in os.listdir(source_dir):\n",
    "    \n",
    "    if filename.endswith(('.fastq', '.fastqsanger')):\n",
    "        print(filename)\n",
    "        command = star_command(filename)\n",
    "        print command\n",
    "        !$command"
   ]
  },
  {
   "cell_type": "code",
   "execution_count": 19,
   "metadata": {},
   "outputs": [
    {
     "name": "stdout",
     "output_type": "stream",
     "text": [
      "samtools index: \"/data/parastou/RNAdeg/results/RipChip/bams/63_S2Ph_ChIPp.Aligned.sortedByCoord.out.bam\" is in a format that cannot be usefully indexed\r\n"
     ]
    }
   ],
   "source": [
    "# Index alignment files.\n",
    "for filename in os.listdir(out_bam):\n",
    "    \n",
    "    if filename.endswith('.Aligned.sortedByCoord.out.bam'):\n",
    "        filepath = os.path.join(out_bam, filename)\n",
    "        !samtools index $filepath"
   ]
  },
  {
   "cell_type": "markdown",
   "metadata": {},
   "source": [
    "### 4 - Tag bam files with gene IDs"
   ]
  },
  {
   "cell_type": "code",
   "execution_count": 20,
   "metadata": {
    "collapsed": true
   },
   "outputs": [],
   "source": [
    "# Set RemrRNA command runtime parameters.\n",
    "def remrrna_command():\n",
    "    \n",
    "    remrrna = '/data/parastou/RNAdeg/pyRNAdeg/RemrRNA.py'\n",
    "    annotation = '/data/parastou/RNAdeg/annotation/schizosaccharomyces_pombe.chr.extended.csv'\n",
    "    \n",
    "    command = remrrna + ' -d ' + out_bam + ' -g ' + annotation + ' -o ' + out_tagged\n",
    "    \n",
    "    return command"
   ]
  },
  {
   "cell_type": "code",
   "execution_count": null,
   "metadata": {
    "scrolled": false
   },
   "outputs": [],
   "source": [
    "# Run RemrRNA\n",
    "remrrna = remrrna_command()\n",
    "!$remrrna"
   ]
  },
  {
   "cell_type": "markdown",
   "metadata": {},
   "source": [
    "### 5 - Compute raw and tpm-normalized gene count tables."
   ]
  },
  {
   "cell_type": "code",
   "execution_count": 15,
   "metadata": {},
   "outputs": [],
   "source": [
    "# Set GeneExpressionTable runtime parameters.\n",
    "def gxt_command():\n",
    "    \n",
    "    gxt = '/data/parastou/RNAdeg/pyRNAdeg/GeneExpressionTable.py'\n",
    "    annotation = '/data/parastou/RNAdeg/annotation/schizosaccharomyces_pombe.chr.extended.csv'\n",
    "    \n",
    "    command = 'python ' + gxt + ' -d ' + out_tagged + ' -g ' + annotation + ' -o ' + xp_data\n",
    "    \n",
    "    return command"
   ]
  },
  {
   "cell_type": "code",
   "execution_count": 16,
   "metadata": {},
   "outputs": [
    {
     "name": "stdout",
     "output_type": "stream",
     "text": [
      "Call to GeneExpressionTable module....\n",
      "\n",
      "This module calculates gene expression in given alignment file(s).\n",
      "Input: folder containing .bam file(s)\n",
      "Output: raw and tpm gene counts data (.csv) files\n",
      "----------------------------------------\n",
      "Input bam: /data/parastou/RNAdeg/results/RipRna/tagged_bams/63_RNA_pA_3.bam\n",
      "Input bam: /data/parastou/RNAdeg/results/RipRna/tagged_bams/63_RNA_pA_4.bam\n",
      "Input bam: /data/parastou/RNAdeg/results/RipRna/tagged_bams/301_S2RIP_3.bam\n",
      "Input bam: /data/parastou/RNAdeg/results/RipRna/tagged_bams/302S2RIP_1.bam\n",
      "Input bam: /data/parastou/RNAdeg/results/RipRna/tagged_bams/530S2RIP_1.bam\n",
      "Input bam: /data/parastou/RNAdeg/results/RipRna/tagged_bams/63.bam\n",
      "Input bam: /data/parastou/RNAdeg/results/RipRna/tagged_bams/65.bam\n",
      "Input bam: /data/parastou/RNAdeg/results/RipRna/tagged_bams/80_RNA_pA.bam\n",
      "Input bam: /data/parastou/RNAdeg/results/RipRna/tagged_bams/504S2RIP_2.bam\n",
      "Input bam: /data/parastou/RNAdeg/results/RipRna/tagged_bams/80pARNA_2.bam\n",
      "Input bam: /data/parastou/RNAdeg/results/RipRna/tagged_bams/302_S2RIP_2.bam\n",
      "Input bam: /data/parastou/RNAdeg/results/RipRna/tagged_bams/491_S2RIP_2.bam\n",
      "Input bam: /data/parastou/RNAdeg/results/RipRna/tagged_bams/283_RNA_pA_4.bam\n",
      "Input bam: /data/parastou/RNAdeg/results/RipRna/tagged_bams/301_RNA_pA_2.bam\n",
      "Input bam: /data/parastou/RNAdeg/results/RipRna/tagged_bams/301_RNA_pA_3.bam\n",
      "Input bam: /data/parastou/RNAdeg/results/RipRna/tagged_bams/301_RNA_pA.bam\n",
      "Input bam: /data/parastou/RNAdeg/results/RipRna/tagged_bams/80S2RIP_2.bam\n",
      "Input bam: /data/parastou/RNAdeg/results/RipRna/tagged_bams/324_S2RIP_2.bam\n",
      "Input bam: /data/parastou/RNAdeg/results/RipRna/tagged_bams/530S2RIP_2.bam\n",
      "Input bam: /data/parastou/RNAdeg/results/RipRna/tagged_bams/302_RNA_pA_2.bam\n",
      "Input bam: /data/parastou/RNAdeg/results/RipRna/tagged_bams/302_RNA_pA.bam\n",
      "Input bam: /data/parastou/RNAdeg/results/RipRna/tagged_bams/63_S2Ph_RIP.bam\n",
      "Input bam: /data/parastou/RNAdeg/results/RipRna/tagged_bams/63_S2RIP_2.bam\n",
      "Input bam: /data/parastou/RNAdeg/results/RipRna/tagged_bams/301_S2RIP.bam\n",
      "Input bam: /data/parastou/RNAdeg/results/RipRna/tagged_bams/302_S2RIP_3.bam\n",
      "Input bam: /data/parastou/RNAdeg/results/RipRna/tagged_bams/491_S2RIP_3.bam\n",
      "Input bam: /data/parastou/RNAdeg/results/RipRna/tagged_bams/324_RNA_pA_2.bam\n",
      "Input bam: /data/parastou/RNAdeg/results/RipRna/tagged_bams/324_RNA_pA_3.bam\n",
      "Input bam: /data/parastou/RNAdeg/results/RipRna/tagged_bams/324_RNA_pA.bam\n",
      "Input bam: /data/parastou/RNAdeg/results/RipRna/tagged_bams/301_S2RIP_2.bam\n",
      "Input bam: /data/parastou/RNAdeg/results/RipRna/tagged_bams/302_S2RIP.bam\n",
      "Input bam: /data/parastou/RNAdeg/results/RipRna/tagged_bams/491_RNA_pA_2.bam\n",
      "Input bam: /data/parastou/RNAdeg/results/RipRna/tagged_bams/63_S2PRIP.bam\n",
      "Input bam: /data/parastou/RNAdeg/results/RipRna/tagged_bams/80_S2RIP.bam\n",
      "Input bam: /data/parastou/RNAdeg/results/RipRna/tagged_bams/80S2RIP_1.bam\n",
      "Input bam: /data/parastou/RNAdeg/results/RipRna/tagged_bams/301S2RIP_1.bam\n",
      "Input bam: /data/parastou/RNAdeg/results/RipRna/tagged_bams/324S2RIP_1.bam\n",
      "Input bam: /data/parastou/RNAdeg/results/RipRna/tagged_bams/510_S2RIP.bam\n",
      "Input bam: /data/parastou/RNAdeg/results/RipRna/tagged_bams/504_RNA_pA_1.bam\n",
      "Input bam: /data/parastou/RNAdeg/results/RipRna/tagged_bams/504_RNA_pA_2.bam\n",
      "Input bam: /data/parastou/RNAdeg/results/RipRna/tagged_bams/324_S2RIP_3.bam\n",
      "Input bam: /data/parastou/RNAdeg/results/RipRna/tagged_bams/591_S2RIP_2.bam\n",
      "Input bam: /data/parastou/RNAdeg/results/RipRna/tagged_bams/491_S2RIP.bam\n",
      "Input bam: /data/parastou/RNAdeg/results/RipRna/tagged_bams/638S2RIP_1.bam\n",
      "Input bam: /data/parastou/RNAdeg/results/RipRna/tagged_bams/638S2RIP_2.bam\n",
      "Input bam: /data/parastou/RNAdeg/results/RipRna/tagged_bams/491S2RIP_1.bam\n",
      "Input bam: /data/parastou/RNAdeg/results/RipRna/tagged_bams/491_RNA_pA.bam\n",
      "Input bam: /data/parastou/RNAdeg/results/RipRna/tagged_bams/510_RNA_pA_2.bam\n",
      "Input bam: /data/parastou/RNAdeg/results/RipRna/tagged_bams/510_RNA_pA.bam\n",
      "Input bam: /data/parastou/RNAdeg/results/RipRna/tagged_bams/1113_S2RIP.bam\n",
      "Input bam: /data/parastou/RNAdeg/results/RipRna/tagged_bams/530_RNA_pA_1.bam\n",
      "Input bam: /data/parastou/RNAdeg/results/RipRna/tagged_bams/530_RNA_pA_2.bam\n",
      "Input bam: /data/parastou/RNAdeg/results/RipRna/tagged_bams/324_S2RIP.bam\n",
      "Input bam: /data/parastou/RNAdeg/results/RipRna/tagged_bams/638_RNA_pA_1.bam\n",
      "Input bam: /data/parastou/RNAdeg/results/RipRna/tagged_bams/638_RNA_pA_2.bam\n",
      "Input bam: /data/parastou/RNAdeg/results/RipRna/tagged_bams/504S2RIP_1.bam\n",
      "Input bam: /data/parastou/RNAdeg/results/RipRna/tagged_bams/1167_S2RIP_2.bam\n",
      "Input bam: /data/parastou/RNAdeg/results/RipRna/tagged_bams/1113_pA.bam\n",
      "Input bam: /data/parastou/RNAdeg/results/RipRna/tagged_bams/1167_pA_2.bam\n",
      "Input bam: /data/parastou/RNAdeg/results/RipRna/tagged_bams/1167_pA.bam\n",
      "Input bam: /data/parastou/RNAdeg/results/RipRna/tagged_bams/1167_S2RIP.bam\n",
      "Input bam: /data/parastou/RNAdeg/results/RipRna/tagged_bams/1168_pA_2.bam\n",
      "Input bam: /data/parastou/RNAdeg/results/RipRna/tagged_bams/1168_pA.bam\n",
      "Input bam: /data/parastou/RNAdeg/results/RipRna/tagged_bams/1168_S2RIP_2.bam\n",
      "Input bam: /data/parastou/RNAdeg/results/RipRna/tagged_bams/1168_S2RIP.bam\n",
      "Gene count matrix saved in: /data/parastou/RNAdeg/results/RipRna/xp_data/pombe_gene_count_matrix.csv\n",
      "TPM expression matrix saved in: /data/parastou/RNAdeg/results/RipRna/xp_data/pombe_tpm_matrix.csv\n",
      "Finished successfully!\n"
     ]
    }
   ],
   "source": [
    "# Run GeneExpressionTable\n",
    "gxt = gxt_command()\n",
    "!$gxt"
   ]
  },
  {
   "cell_type": "markdown",
   "metadata": {},
   "source": [
    "----------------"
   ]
  }
 ],
 "metadata": {
  "kernelspec": {
   "display_name": "Python 2",
   "language": "python",
   "name": "python2"
  },
  "language_info": {
   "codemirror_mode": {
    "name": "ipython",
    "version": 2
   },
   "file_extension": ".py",
   "mimetype": "text/x-python",
   "name": "python",
   "nbconvert_exporter": "python",
   "pygments_lexer": "ipython2",
   "version": "2.7.15"
  }
 },
 "nbformat": 4,
 "nbformat_minor": 2
}
