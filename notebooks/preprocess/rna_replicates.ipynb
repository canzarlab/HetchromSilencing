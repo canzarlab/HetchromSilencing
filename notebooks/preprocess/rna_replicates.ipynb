{
 "cells": [
  {
   "cell_type": "code",
   "execution_count": 1,
   "metadata": {},
   "outputs": [],
   "source": [
    "import os\n",
    "import sys\n",
    "\n",
    "import pandas as pd"
   ]
  },
  {
   "cell_type": "markdown",
   "metadata": {},
   "source": [
    "------------------------------"
   ]
  },
  {
   "cell_type": "code",
   "execution_count": 4,
   "metadata": {},
   "outputs": [],
   "source": [
    "rdg_dir = '/data/parastou/RNAdeg/pyRNAdeg/'"
   ]
  },
  {
   "cell_type": "code",
   "execution_count": 7,
   "metadata": {},
   "outputs": [],
   "source": [
    "if rdg_dir not in sys.path:\n",
    "    sys.path.append(rdg_dir)"
   ]
  },
  {
   "cell_type": "code",
   "execution_count": 8,
   "metadata": {},
   "outputs": [],
   "source": [
    "import RepTools as rpc"
   ]
  },
  {
   "cell_type": "code",
   "execution_count": 9,
   "metadata": {},
   "outputs": [],
   "source": [
    "from Util import to_log2_tpm"
   ]
  },
  {
   "cell_type": "markdown",
   "metadata": {},
   "source": [
    "----"
   ]
  },
  {
   "cell_type": "code",
   "execution_count": 5,
   "metadata": {},
   "outputs": [],
   "source": [
    "source_dir = '/data/parastou/RNAdeg/results/RipRna/xp_data/'"
   ]
  },
  {
   "cell_type": "code",
   "execution_count": 6,
   "metadata": {},
   "outputs": [],
   "source": [
    "out_dir = '/data/parastou/RNAdeg/results/RipRna/xp_data/'"
   ]
  },
  {
   "cell_type": "markdown",
   "metadata": {},
   "source": [
    "------------"
   ]
  },
  {
   "cell_type": "markdown",
   "metadata": {},
   "source": [
    "## Workflow"
   ]
  },
  {
   "cell_type": "markdown",
   "metadata": {},
   "source": [
    "- Calculate log2(tpm +1) of all tpm counts of all samples.\n",
    "- Calculate MA-plot, correlation plot, and pearson correlation score for all replicate pairs.\n",
    "- Group replicates with correlation scores higher than 85%.\n",
    "- Merge replicates groups by taking the mean of tpm values.\n",
    "- Remove 'ncRNA_gene', 'pseudogene', 'rRNA_gene', 'snRNA_gene', 'snoRNA_gene', and 'tRNA_gene' entries from merged results."
   ]
  },
  {
   "cell_type": "markdown",
   "metadata": {},
   "source": [
    "--------------------------"
   ]
  },
  {
   "cell_type": "markdown",
   "metadata": {},
   "source": [
    "### 1 - Prepare output folders"
   ]
  },
  {
   "cell_type": "code",
   "execution_count": 10,
   "metadata": {},
   "outputs": [],
   "source": [
    "out_ma = os.path.join(out_dir, 'MA')\n",
    "out_corr = os.path.join(out_dir, 'CORR')\n",
    "\n",
    "if not os.path.isdir(out_ma):    \n",
    "    !mkdir $out_ma\n",
    "    \n",
    "if not os.path.isdir(out_corr):    \n",
    "    !mkdir $out_corr"
   ]
  },
  {
   "cell_type": "markdown",
   "metadata": {},
   "source": [
    "### 2 - Load raw and tpm-normalized gene expression tables"
   ]
  },
  {
   "cell_type": "code",
   "execution_count": 10,
   "metadata": {},
   "outputs": [],
   "source": [
    "tpm_df = pd.read_csv(os.path.join(source_dir, 'pombe_tpm_matrix.csv'), sep='\\t', comment='#')"
   ]
  },
  {
   "cell_type": "code",
   "execution_count": 11,
   "metadata": {},
   "outputs": [],
   "source": [
    "gx_df = pd.read_csv(os.path.join(source_dir, 'pombe_gene_count_matrix.csv'), sep='\\t', comment='#')"
   ]
  },
  {
   "cell_type": "markdown",
   "metadata": {},
   "source": [
    "Log2-transfer the tpm counts."
   ]
  },
  {
   "cell_type": "code",
   "execution_count": 13,
   "metadata": {
    "scrolled": true
   },
   "outputs": [],
   "source": [
    "log2_tpm_df = to_log2_tpm(tpm_df)"
   ]
  },
  {
   "cell_type": "markdown",
   "metadata": {},
   "source": [
    "------"
   ]
  },
  {
   "cell_type": "markdown",
   "metadata": {},
   "source": [
    "### 3 - Produce correlation plots and pearson-r correlation score for sample pairs."
   ]
  },
  {
   "cell_type": "code",
   "execution_count": 15,
   "metadata": {},
   "outputs": [],
   "source": [
    "rpc.run_corr_checks(log2_tpm_df, out_dir=out_corr)"
   ]
  },
  {
   "cell_type": "markdown",
   "metadata": {},
   "source": [
    "### 4 - Produce MA plots for sample pairs."
   ]
  },
  {
   "cell_type": "code",
   "execution_count": 16,
   "metadata": {
    "scrolled": true
   },
   "outputs": [
    {
     "name": "stderr",
     "output_type": "stream",
     "text": [
      "/home/parastou/conda/lib/python2.7/site-packages/matplotlib/pyplot.py:524: RuntimeWarning: More than 20 figures have been opened. Figures created through the pyplot interface (`matplotlib.pyplot.figure`) are retained until explicitly closed and may consume too much memory. (To control this warning, see the rcParam `figure.max_open_warning`).\n",
      "  max_open_warning, RuntimeWarning)\n"
     ]
    }
   ],
   "source": [
    "rpc.run_ma_checks(log2_tpm_df, out_dir=out_ma)"
   ]
  },
  {
   "cell_type": "markdown",
   "metadata": {},
   "source": [
    "-----------------"
   ]
  },
  {
   "cell_type": "markdown",
   "metadata": {},
   "source": [
    "### 5 - Investigate correlation scores and select replicates to merge."
   ]
  },
  {
   "cell_type": "code",
   "execution_count": 10,
   "metadata": {},
   "outputs": [],
   "source": [
    "from RepTools import report_corr"
   ]
  },
  {
   "cell_type": "code",
   "execution_count": 11,
   "metadata": {
    "collapsed": true
   },
   "outputs": [],
   "source": [
    "sub_samples =  [['1113_S2RIP'], ['1113_p'], \n",
    "                ['1168_S2RIP_2', '1167_S2RIP_2', '1167_S2RIP', '1168_S2RIP'],\n",
    "                ['1168_pA_2', '1168_p', '1167_pA_2', '1167_p'],  \n",
    "                ['301_S2RIP_2', '301_S2RIP_3', '301_S2RIP', '301S2RIP_1'], \n",
    "                ['301_RNA_pA_2', '301_RNA_pA_3', '301_RNA_p'], \n",
    "                ['302_S2RIP_2', '302_S2RIP_3', '302_S2RIP', '302S2RIP_1'], \n",
    "                ['302_RNA_pA_2', '302_RNA_p'],\n",
    "                ['324_S2RIP_2', '324_S2RIP_3', '324_S2RIP', '324S2RIP_1'],\n",
    "                ['324_RNA_pA_2', '324_RNA_pA_3', '324_RNA_p', '283_RNA_pA_4'],\n",
    "                ['491_S2RIP_2', '491_S2RIP_3', '491_S2RIP', '491S2RIP_1'],\n",
    "                ['491_RNA_pA_2', '491_RNA_p'], ['504S2RIP_1', '504S2RIP_2'],\n",
    "                ['504_RNA_pA_1', '504_RNA_pA_2'], ['510_S2RIP', '591_S2RIP_2'],\n",
    "                ['510_RNA_pA_2', '510_RNA_p'], ['530S2RIP_1', '530S2RIP_2'],\n",
    "                ['530_RNA_pA_1', '530_RNA_pA_2'], ['638S2RIP_1','638S2RIP_2'],\n",
    "                ['638_RNA_pA_1', '638_RNA_pA_2'], ['80_S2RIP', '80S2RIP_1', '80S2RIP_2'],\n",
    "                ['80_RNA_p', '80pARNA_2'], ['63_S2Ph_RIP', '63_S2PRIP', '63_S2RIP_2'],          \n",
    "                ['63_RNA_pA_3', '63_RNA_pA_4', '63', '65']]"
   ]
  },
  {
   "cell_type": "code",
   "execution_count": 12,
   "metadata": {
    "collapsed": true
   },
   "outputs": [],
   "source": [
    "corr_df = pd.read_csv('/data/parastou/RNAdeg/results/RipRna/CORR/correlations.csv', sep='\\t')"
   ]
  },
  {
   "cell_type": "code",
   "execution_count": 40,
   "metadata": {},
   "outputs": [
    {
     "data": {
      "text/html": [
       "<div>\n",
       "<table border=\"1\" class=\"dataframe\">\n",
       "  <thead>\n",
       "    <tr style=\"text-align: right;\">\n",
       "      <th></th>\n",
       "      <th>Sample1</th>\n",
       "      <th>Sample2</th>\n",
       "      <th>Correlation</th>\n",
       "      <th>P-value</th>\n",
       "    </tr>\n",
       "  </thead>\n",
       "  <tbody>\n",
       "    <tr>\n",
       "      <th>0</th>\n",
       "      <td>63_RNA_pA_3</td>\n",
       "      <td>63_RNA_pA_4</td>\n",
       "      <td>0.985310</td>\n",
       "      <td>0.0</td>\n",
       "    </tr>\n",
       "    <tr>\n",
       "      <th>1</th>\n",
       "      <td>63_RNA_pA_3</td>\n",
       "      <td>63</td>\n",
       "      <td>0.952595</td>\n",
       "      <td>0.0</td>\n",
       "    </tr>\n",
       "    <tr>\n",
       "      <th>2</th>\n",
       "      <td>63_RNA_pA_3</td>\n",
       "      <td>65</td>\n",
       "      <td>0.956224</td>\n",
       "      <td>0.0</td>\n",
       "    </tr>\n",
       "    <tr>\n",
       "      <th>3</th>\n",
       "      <td>63_RNA_pA_4</td>\n",
       "      <td>63</td>\n",
       "      <td>0.927823</td>\n",
       "      <td>0.0</td>\n",
       "    </tr>\n",
       "    <tr>\n",
       "      <th>4</th>\n",
       "      <td>63_RNA_pA_4</td>\n",
       "      <td>65</td>\n",
       "      <td>0.926151</td>\n",
       "      <td>0.0</td>\n",
       "    </tr>\n",
       "    <tr>\n",
       "      <th>5</th>\n",
       "      <td>63</td>\n",
       "      <td>65</td>\n",
       "      <td>0.978269</td>\n",
       "      <td>0.0</td>\n",
       "    </tr>\n",
       "  </tbody>\n",
       "</table>\n",
       "</div>"
      ],
      "text/plain": [
       "       Sample1      Sample2  Correlation  P-value\n",
       "0  63_RNA_pA_3  63_RNA_pA_4     0.985310      0.0\n",
       "1  63_RNA_pA_3           63     0.952595      0.0\n",
       "2  63_RNA_pA_3           65     0.956224      0.0\n",
       "3  63_RNA_pA_4           63     0.927823      0.0\n",
       "4  63_RNA_pA_4           65     0.926151      0.0\n",
       "5           63           65     0.978269      0.0"
      ]
     },
     "execution_count": 40,
     "metadata": {},
     "output_type": "execute_result"
    }
   ],
   "source": [
    "report_corr(corr_df, ['63_RNA_pA_3', '63_RNA_pA_4', '63', '65'])"
   ]
  },
  {
   "cell_type": "markdown",
   "metadata": {},
   "source": [
    "### 6 - Merge replicates."
   ]
  },
  {
   "cell_type": "code",
   "execution_count": 14,
   "metadata": {},
   "outputs": [],
   "source": [
    "sub_samples =  [['1168_S2RIP_2', '1168_S2RIP'],\n",
    "                ['1168_pA_2', '1168_p'],  \n",
    "                ['301_S2RIP_2', '301_S2RIP_3', '301_S2RIP'], \n",
    "                ['301_RNA_pA_2', '301_RNA_pA_3', '301_RNA_p'], \n",
    "                ['302_S2RIP_2', '302_S2RIP_3', '302_S2RIP'], \n",
    "                ['302_RNA_pA_2', '302_RNA_p'],\n",
    "                ['324_S2RIP_2', '324_S2RIP_3', '324_S2RIP'],\n",
    "                ['324_RNA_pA_2', '324_RNA_pA_3', '324_RNA_p', '283_RNA_pA_4'],\n",
    "                ['491_S2RIP_2', '491_S2RIP_3', '491_S2RIP'],\n",
    "                ['491_RNA_pA_2', '491_RNA_p'], ['504S2RIP_1', '504S2RIP_2'],\n",
    "                ['504_RNA_pA_1', '504_RNA_pA_2'], ['510_S2RIP', '591_S2RIP_2'],\n",
    "                ['510_RNA_pA_2', '510_RNA_p'], ['530S2RIP_1', '530S2RIP_2'],\n",
    "                ['530_RNA_pA_1', '530_RNA_pA_2'], ['638S2RIP_1','638S2RIP_2'],\n",
    "                ['638_RNA_pA_1', '638_RNA_pA_2'], ['80_S2RIP', '80S2RIP_1', '80S2RIP_2'],\n",
    "                ['80_RNA_p', '80pARNA_2'], ['63_S2Ph_RIP', '63_S2PRIP', '63_S2RIP_2'],          \n",
    "                ['63_RNA_pA_3', '63_RNA_pA_4', '63', '65']]"
   ]
  },
  {
   "cell_type": "code",
   "execution_count": 15,
   "metadata": {},
   "outputs": [],
   "source": [
    "col_names = ['1160_RIP','1160_RNA', '301_RIP', '301_RNA', \n",
    "             '302_RIP', '302_RNA', '324_RIP', '324_RNA', '491_RIP', '491_RNA', '504_RIP',\n",
    "             '504_RNA', '510_RIP', '510_RNA', '530_RIP', '530_RNA', '638_RIP', '638_RNA',\n",
    "             '80_RIP', '80_RNA', 'WT_RIP', 'WT_RNA']"
   ]
  },
  {
   "cell_type": "code",
   "execution_count": 16,
   "metadata": {},
   "outputs": [],
   "source": [
    "merged_df = rpc.repli_merge(gx_df, sub_samples, new_cols=col_names, out_dir=source_dir)"
   ]
  },
  {
   "cell_type": "markdown",
   "metadata": {},
   "source": [
    "### 7 - Average TPM-normalized expression tables for replicates."
   ]
  },
  {
   "cell_type": "code",
   "execution_count": 17,
   "metadata": {},
   "outputs": [],
   "source": [
    "merged_tpm_df = rpc.repli_merge(tpm_df, sub_samples, new_cols=col_names, out_dir=source_dir, out_file='merged_tpm.csv')"
   ]
  }
 ],
 "metadata": {
  "kernelspec": {
   "display_name": "Python 2",
   "language": "python",
   "name": "python2"
  },
  "language_info": {
   "codemirror_mode": {
    "name": "ipython",
    "version": 2
   },
   "file_extension": ".py",
   "mimetype": "text/x-python",
   "name": "python",
   "nbconvert_exporter": "python",
   "pygments_lexer": "ipython2",
   "version": "2.7.15"
  }
 },
 "nbformat": 4,
 "nbformat_minor": 1
}
