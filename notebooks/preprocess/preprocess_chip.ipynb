{
 "cells": [
  {
   "cell_type": "code",
   "execution_count": 1,
   "metadata": {},
   "outputs": [],
   "source": [
    "import os\n",
    "\n",
    "import pandas as pd"
   ]
  },
  {
   "cell_type": "code",
   "execution_count": 3,
   "metadata": {},
   "outputs": [],
   "source": [
    "pd.options.mode.chained_assignment = None"
   ]
  },
  {
   "cell_type": "markdown",
   "metadata": {},
   "source": [
    "---------------------------"
   ]
  },
  {
   "cell_type": "code",
   "execution_count": 4,
   "metadata": {},
   "outputs": [],
   "source": [
    "source_dir = '/data/parastou/RNAdeg/data/AllChIP/'"
   ]
  },
  {
   "cell_type": "code",
   "execution_count": 5,
   "metadata": {},
   "outputs": [],
   "source": [
    "out_dir = '/data/parastou/RNAdeg/results/RipChip/'"
   ]
  },
  {
   "cell_type": "markdown",
   "metadata": {},
   "source": [
    "--------------"
   ]
  },
  {
   "cell_type": "markdown",
   "metadata": {},
   "source": [
    "## Workflow"
   ]
  },
  {
   "cell_type": "markdown",
   "metadata": {},
   "source": [
    "- Unzip fastq files.\n",
    "- Truncate 0-length reads from fastq files (optional).\n",
    "- Run STAR aligner.\n",
    "- Index .bam files.\n",
    "- Calculate and save gene counts table for all given samples from .bam files.\n",
    "- TPM-normalize gene counts table and save."
   ]
  },
  {
   "cell_type": "markdown",
   "metadata": {},
   "source": [
    "---------"
   ]
  },
  {
   "cell_type": "markdown",
   "metadata": {},
   "source": [
    "### 1 - Prepare output folders"
   ]
  },
  {
   "cell_type": "code",
   "execution_count": 6,
   "metadata": {},
   "outputs": [],
   "source": [
    "out_bam = os.path.join(out_dir, 'bams')\n",
    "xp_data = os.path.join(out_dir, 'xp_data')"
   ]
  },
  {
   "cell_type": "code",
   "execution_count": 7,
   "metadata": {},
   "outputs": [],
   "source": [
    "if not os.path.isdir(out_bam):    \n",
    "    !mkdir $out_bam"
   ]
  },
  {
   "cell_type": "code",
   "execution_count": 10,
   "metadata": {},
   "outputs": [],
   "source": [
    "if not os.path.isdir(xp_data):    \n",
    "    !mkdir $xp_data"
   ]
  },
  {
   "cell_type": "markdown",
   "metadata": {},
   "source": [
    "-----------------------"
   ]
  },
  {
   "cell_type": "markdown",
   "metadata": {},
   "source": [
    "### 2 - Unzip fastq files."
   ]
  },
  {
   "cell_type": "code",
   "execution_count": 13,
   "metadata": {},
   "outputs": [],
   "source": [
    "for filename in os.listdir(source_dir):\n",
    "    if filename.endswith('bz2'):\n",
    "        \n",
    "        filepath = os.path.join(source_dir, filename)\n",
    "        !bzip2 -d $filepath"
   ]
  },
  {
   "cell_type": "markdown",
   "metadata": {},
   "source": [
    "### Optional step: remove truncated reads from fastq files."
   ]
  },
  {
   "cell_type": "code",
   "execution_count": null,
   "metadata": {},
   "outputs": [],
   "source": [
    "for filename in os.listdir(source_dir):\n",
    "    if filename.endswith('.fastq'):\n",
    "        \n",
    "        filepath = os.path.join(source_dir, filename)\n",
    "        outfilepath = os.path.join(source_dir, filename.split('.fastq')[0] + '.ztr.fastq')\n",
    "        !echo $outfilepath\n",
    "        !bioawk -cfastx 'length($seq) > 0 {print \"@\"$name\"\\n\"$seq\"\\n+\\n\"$qual} $filepath  >> $outfilepath'\n",
    "        !rm $filepath"
   ]
  },
  {
   "cell_type": "markdown",
   "metadata": {},
   "source": [
    "### 3 - Align fastq files"
   ]
  },
  {
   "cell_type": "code",
   "execution_count": 12,
   "metadata": {},
   "outputs": [],
   "source": [
    "# Set STAR runtime parameters.\n",
    "def star_command(in_file):\n",
    "    \n",
    "    star = '/home/parastou/star_2.5.1b'\n",
    "    n_threads = 4\n",
    "    genome_dir = '/data/parastou/RNAdeg/genomes/spombe/star_nogtf_idx/'\n",
    "    \n",
    "    command = star + ' --runThreadN ' + str(n_threads) + ' --genomeDir ' + genome_dir + ' --readFilesIn ' \\\n",
    "    + source_dir + in_file + ' --outFileNamePrefix ' + os.path.join(out_bam , in_file.split('fastq')[0]) \\\n",
    "    + ' --outSAMtype BAM SortedByCoordinate --alignIntronMax 1 --alignEndsType EndToEnd'\n",
    "    \n",
    "    return command"
   ]
  },
  {
   "cell_type": "code",
   "execution_count": 18,
   "metadata": {
    "scrolled": true
   },
   "outputs": [
    {
     "name": "stdout",
     "output_type": "stream",
     "text": [
      "63_S2ChIPp.ztr.fastq\n",
      "Jan 22 09:32:40 ..... Started STAR run\n",
      "Jan 22 09:32:40 ..... Loading genome\n",
      "Jan 22 09:32:48 ..... Started mapping\n",
      "Jan 22 09:33:37 ..... Started sorting BAM\n",
      "Jan 22 09:33:43 ..... Finished successfully\n",
      "63_S2ChIP_2.ztr.fastq\n",
      "Jan 22 09:33:43 ..... Started STAR run\n",
      "Jan 22 09:33:43 ..... Loading genome\n",
      "Jan 22 09:33:44 ..... Started mapping\n",
      "Jan 22 09:34:33 ..... Started sorting BAM\n",
      "Jan 22 09:34:38 ..... Finished successfully\n",
      "65_S2ChIP.fastq\n",
      "Jan 22 09:34:39 ..... Started STAR run\n",
      "Jan 22 09:34:39 ..... Loading genome\n",
      "Jan 22 09:34:39 ..... Started mapping\n",
      "Jan 22 09:35:57 ..... Started sorting BAM\n",
      "Jan 22 09:36:05 ..... Finished successfully\n",
      "80_S2ChIP_2.fastq\n",
      "Jan 22 09:36:05 ..... Started STAR run\n",
      "Jan 22 09:36:05 ..... Loading genome\n",
      "Jan 22 09:36:06 ..... Started mapping\n",
      "Jan 22 09:37:07 ..... Started sorting BAM\n",
      "Jan 22 09:37:15 ..... Finished successfully\n",
      "80_S2ChIP.fastq\n",
      "Jan 22 09:37:15 ..... Started STAR run\n",
      "Jan 22 09:37:15 ..... Loading genome\n",
      "Jan 22 09:37:15 ..... Started mapping\n",
      "Jan 22 09:38:24 ..... Started sorting BAM\n",
      "Jan 22 09:38:34 ..... Finished successfully\n",
      "80_S2Ph_ChIP.fastq\n",
      "Jan 22 09:38:35 ..... Started STAR run\n",
      "Jan 22 09:38:35 ..... Loading genome\n",
      "Jan 22 09:38:35 ..... Started mapping\n",
      "Jan 22 09:40:32 ..... Started sorting BAM\n",
      "Jan 22 09:40:34 ..... Finished successfully\n",
      "80S2ChIP_1.fastq\n",
      "Jan 22 09:40:34 ..... Started STAR run\n",
      "Jan 22 09:40:34 ..... Loading genome\n",
      "Jan 22 09:40:35 ..... Started mapping\n",
      "Jan 22 09:41:44 ..... Started sorting BAM\n",
      "Jan 22 09:41:55 ..... Finished successfully\n",
      "301_S2ChIP.fastq\n",
      "Jan 22 09:41:56 ..... Started STAR run\n",
      "Jan 22 09:41:56 ..... Loading genome\n",
      "Jan 22 09:41:56 ..... Started mapping\n",
      "Jan 22 09:43:04 ..... Started sorting BAM\n",
      "Jan 22 09:43:10 ..... Finished successfully\n",
      "302_S2ChIP.fastq\n",
      "Jan 22 09:43:10 ..... Started STAR run\n",
      "Jan 22 09:43:10 ..... Loading genome\n",
      "Jan 22 09:43:11 ..... Started mapping\n",
      "Jan 22 09:44:24 ..... Started sorting BAM\n",
      "Jan 22 09:44:32 ..... Finished successfully\n",
      "324_S2ChIP.fastq\n",
      "Jan 22 09:44:33 ..... Started STAR run\n",
      "Jan 22 09:44:33 ..... Loading genome\n",
      "Jan 22 09:44:33 ..... Started mapping\n",
      "Jan 22 09:45:40 ..... Started sorting BAM\n",
      "Jan 22 09:45:49 ..... Finished successfully\n",
      "491_S2ChIP.fastq\n",
      "Jan 22 09:45:50 ..... Started STAR run\n",
      "Jan 22 09:45:50 ..... Loading genome\n",
      "Jan 22 09:45:50 ..... Started mapping\n",
      "Jan 22 09:46:58 ..... Started sorting BAM\n",
      "Jan 22 09:47:06 ..... Finished successfully\n",
      "504S2ChIP_1.fastq\n",
      "Jan 22 09:47:08 ..... Started STAR run\n",
      "Jan 22 09:47:08 ..... Loading genome\n",
      "Jan 22 09:47:08 ..... Started mapping\n",
      "Jan 22 09:47:49 ..... Started sorting BAM\n",
      "Jan 22 09:47:55 ..... Finished successfully\n",
      "504S2ChIP_2.fastq\n",
      "Jan 22 09:47:56 ..... Started STAR run\n",
      "Jan 22 09:47:56 ..... Loading genome\n",
      "Jan 22 09:47:56 ..... Started mapping\n",
      "Jan 22 09:48:39 ..... Started sorting BAM\n",
      "Jan 22 09:48:46 ..... Finished successfully\n",
      "530ChIP_1.fastq\n",
      "Jan 22 09:48:46 ..... Started STAR run\n",
      "Jan 22 09:48:46 ..... Loading genome\n",
      "Jan 22 09:48:46 ..... Started mapping\n",
      "Jan 22 09:49:40 ..... Started sorting BAM\n",
      "Jan 22 09:49:47 ..... Finished successfully\n",
      "530S2ChIP_2.fastq\n",
      "Jan 22 09:49:48 ..... Started STAR run\n",
      "Jan 22 09:49:48 ..... Loading genome\n",
      "Jan 22 09:49:48 ..... Started mapping\n",
      "Jan 22 09:50:33 ..... Started sorting BAM\n",
      "Jan 22 09:50:38 ..... Finished successfully\n",
      "591_S2PChIP.fastq\n",
      "Jan 22 09:50:38 ..... Started STAR run\n",
      "Jan 22 09:50:38 ..... Loading genome\n",
      "Jan 22 09:50:39 ..... Started mapping\n",
      "Jan 22 09:51:38 ..... Started sorting BAM\n",
      "Jan 22 09:51:48 ..... Finished successfully\n",
      "638ChIP_1.fastq\n",
      "Jan 22 09:51:48 ..... Started STAR run\n",
      "Jan 22 09:51:48 ..... Loading genome\n",
      "Jan 22 09:51:49 ..... Started mapping\n",
      "Jan 22 09:52:49 ..... Started sorting BAM\n",
      "Jan 22 09:52:58 ..... Finished successfully\n",
      "63_S2ChIP.fastq\n",
      "Jan 22 09:52:59 ..... Started STAR run\n",
      "Jan 22 09:52:59 ..... Loading genome\n",
      "Jan 22 09:52:59 ..... Started mapping\n",
      "Jan 22 09:53:51 ..... Started sorting BAM\n",
      "Jan 22 09:53:58 ..... Finished successfully\n",
      "80_S2_ChIP.fastq\n",
      "Jan 22 09:53:58 ..... Started STAR run\n",
      "Jan 22 09:53:58 ..... Loading genome\n",
      "Jan 22 09:53:59 ..... Started mapping\n",
      "Jan 22 09:55:00 ..... Started sorting BAM\n",
      "Jan 22 09:55:09 ..... Finished successfully\n",
      "491_S2_ChIP.fastq\n",
      "Jan 22 09:55:09 ..... Started STAR run\n",
      "Jan 22 09:55:09 ..... Loading genome\n",
      "Jan 22 09:55:10 ..... Started mapping\n",
      "Jan 22 09:55:52 ..... Started sorting BAM\n",
      "Jan 22 09:55:59 ..... Finished successfully\n",
      "324_S2_ChIP.fastq\n",
      "Jan 22 09:55:59 ..... Started STAR run\n",
      "Jan 22 09:55:59 ..... Loading genome\n",
      "Jan 22 09:56:00 ..... Started mapping\n",
      "Jan 22 09:56:30 ..... Started sorting BAM\n",
      "Jan 22 09:56:35 ..... Finished successfully\n",
      "302_S2_ChIP.fastq\n",
      "Jan 22 09:56:36 ..... Started STAR run\n",
      "Jan 22 09:56:36 ..... Loading genome\n",
      "Jan 22 09:56:36 ..... Started mapping\n",
      "Jan 22 09:57:30 ..... Started sorting BAM\n",
      "Jan 22 09:57:36 ..... Finished successfully\n",
      "301_S2_ChIP.fastq\n",
      "Jan 22 09:57:37 ..... Started STAR run\n",
      "Jan 22 09:57:37 ..... Loading genome\n",
      "Jan 22 09:57:37 ..... Started mapping\n",
      "Jan 22 09:58:26 ..... Started sorting BAM\n",
      "Jan 22 09:58:32 ..... Finished successfully\n",
      "638_S2_ChIP.fastq\n",
      "Jan 22 09:58:32 ..... Started STAR run\n",
      "Jan 22 09:58:32 ..... Loading genome\n",
      "Jan 22 09:58:33 ..... Started mapping\n",
      "Jan 22 09:59:41 ..... Started sorting BAM\n",
      "Jan 22 09:59:48 ..... Finished successfully\n",
      "1168_S2ChIP_1.fastq\n",
      "Jan 22 09:59:48 ..... Started STAR run\n",
      "Jan 22 09:59:48 ..... Loading genome\n",
      "Jan 22 09:59:48 ..... Started mapping\n",
      "Jan 22 10:01:31 ..... Started sorting BAM\n",
      "Jan 22 10:01:44 ..... Finished successfully\n",
      "1168_S2ChIP.fastq\n",
      "Jan 22 10:01:45 ..... Started STAR run\n",
      "Jan 22 10:01:45 ..... Loading genome\n",
      "Jan 22 10:01:45 ..... Started mapping\n",
      "Jan 22 10:02:20 ..... Started sorting BAM\n",
      "Jan 22 10:02:23 ..... Finished successfully\n",
      "510_S2ChIP.fastq\n",
      "Jan 22 10:02:23 ..... Started STAR run\n",
      "Jan 22 10:02:23 ..... Loading genome\n",
      "Jan 22 10:02:24 ..... Started mapping\n",
      "Jan 22 10:04:02 ..... Started sorting BAM\n",
      "Jan 22 10:04:17 ..... Finished successfully\n"
     ]
    }
   ],
   "source": [
    "# Run STAR\n",
    "for filename in os.listdir(source_dir):\n",
    "    \n",
    "    if filename.endswith(('.fastq', '.fastqsanger')):\n",
    "        print(filename)\n",
    "        command = star_command(filename)\n",
    "        !$command"
   ]
  },
  {
   "cell_type": "code",
   "execution_count": 20,
   "metadata": {},
   "outputs": [],
   "source": [
    "# Index alignment files.\n",
    "for filename in os.listdir(out_bam):\n",
    "    \n",
    "    if filename.endswith('.Aligned.sortedByCoord.out.bam'):\n",
    "        filepath = os.path.join(out_bam, filename)\n",
    "        !samtools index $filepath"
   ]
  },
  {
   "cell_type": "markdown",
   "metadata": {},
   "source": [
    "### 4 - Compute raw and tpm-normalized gene count tables."
   ]
  },
  {
   "cell_type": "code",
   "execution_count": 7,
   "metadata": {},
   "outputs": [],
   "source": [
    "# Set GeneExpressionTable runtime parameters.\n",
    "def gxt_command():\n",
    "    \n",
    "    gxt = '/data/parastou/RNAdeg/pyRNAdeg/GeneExpressionTableChIP.py'\n",
    "    annotation = '/data/parastou/RNAdeg/annotation/schizosaccharomyces_pombe.chr.extended.csv'\n",
    "    \n",
    "    command = 'python ' + gxt + ' -d ' + out_bam + ' -g ' + annotation + ' -o ' + xp_data + ' -x ' + 'chip_'\n",
    "    \n",
    "    return command"
   ]
  },
  {
   "cell_type": "code",
   "execution_count": 8,
   "metadata": {
    "scrolled": false
   },
   "outputs": [
    {
     "name": "stdout",
     "output_type": "stream",
     "text": [
      "Call to GeneExpressionTable module....\n",
      "\n",
      "This module calculates gene expression in given alignment file(s).\n",
      "Input: folder containing .bam file(s)\n",
      "Output: raw and tpm gene counts data (.csv) files\n",
      "----------------------------------------\n",
      "Input bam: /data/parastou/RNAdeg/results/RipChip/bams/63_S2ChIPp.ztr.Aligned.sortedByCoord.out.bam\n",
      "Total number of spliced alignments : 0\n",
      "Input bam: /data/parastou/RNAdeg/results/RipChip/bams/63_S2ChIP_2.ztr.Aligned.sortedByCoord.out.bam\n",
      "Total number of spliced alignments : 0\n",
      "Input bam: /data/parastou/RNAdeg/results/RipChip/bams/65_S2ChIP.Aligned.sortedByCoord.out.bam\n",
      "Total number of spliced alignments : 0\n",
      "Input bam: /data/parastou/RNAdeg/results/RipChip/bams/80_S2ChIP_2.Aligned.sortedByCoord.out.bam\n",
      "Total number of spliced alignments : 0\n",
      "Input bam: /data/parastou/RNAdeg/results/RipChip/bams/80_S2ChIP.Aligned.sortedByCoord.out.bam\n",
      "Total number of spliced alignments : 0\n",
      "Input bam: /data/parastou/RNAdeg/results/RipChip/bams/80_S2Ph_ChIP.Aligned.sortedByCoord.out.bam\n",
      "Total number of spliced alignments : 0\n",
      "Input bam: /data/parastou/RNAdeg/results/RipChip/bams/80S2ChIP_1.Aligned.sortedByCoord.out.bam\n",
      "Total number of spliced alignments : 0\n",
      "Input bam: /data/parastou/RNAdeg/results/RipChip/bams/301_S2ChIP.Aligned.sortedByCoord.out.bam\n",
      "Total number of spliced alignments : 0\n",
      "Input bam: /data/parastou/RNAdeg/results/RipChip/bams/302_S2ChIP.Aligned.sortedByCoord.out.bam\n",
      "Total number of spliced alignments : 0\n",
      "Input bam: /data/parastou/RNAdeg/results/RipChip/bams/324_S2ChIP.Aligned.sortedByCoord.out.bam\n",
      "Total number of spliced alignments : 0\n",
      "Input bam: /data/parastou/RNAdeg/results/RipChip/bams/491_S2ChIP.Aligned.sortedByCoord.out.bam\n",
      "Total number of spliced alignments : 0\n",
      "Input bam: /data/parastou/RNAdeg/results/RipChip/bams/504S2ChIP_1.Aligned.sortedByCoord.out.bam\n",
      "Total number of spliced alignments : 0\n",
      "Input bam: /data/parastou/RNAdeg/results/RipChip/bams/504S2ChIP_2.Aligned.sortedByCoord.out.bam\n",
      "Total number of spliced alignments : 0\n",
      "Input bam: /data/parastou/RNAdeg/results/RipChip/bams/530ChIP_1.Aligned.sortedByCoord.out.bam\n",
      "Total number of spliced alignments : 0\n",
      "Input bam: /data/parastou/RNAdeg/results/RipChip/bams/530S2ChIP_2.Aligned.sortedByCoord.out.bam\n",
      "Total number of spliced alignments : 0\n",
      "Input bam: /data/parastou/RNAdeg/results/RipChip/bams/591_S2PChIP.Aligned.sortedByCoord.out.bam\n",
      "Total number of spliced alignments : 0\n",
      "Input bam: /data/parastou/RNAdeg/results/RipChip/bams/638ChIP_1.Aligned.sortedByCoord.out.bam\n",
      "Total number of spliced alignments : 0\n",
      "Input bam: /data/parastou/RNAdeg/results/RipChip/bams/63_S2ChIP.Aligned.sortedByCoord.out.bam\n",
      "Total number of spliced alignments : 0\n",
      "Input bam: /data/parastou/RNAdeg/results/RipChip/bams/80_S2_ChIP.Aligned.sortedByCoord.out.bam\n",
      "Total number of spliced alignments : 0\n",
      "Input bam: /data/parastou/RNAdeg/results/RipChip/bams/491_S2_ChIP.Aligned.sortedByCoord.out.bam\n",
      "Total number of spliced alignments : 0\n",
      "Input bam: /data/parastou/RNAdeg/results/RipChip/bams/324_S2_ChIP.Aligned.sortedByCoord.out.bam\n",
      "Total number of spliced alignments : 0\n",
      "Input bam: /data/parastou/RNAdeg/results/RipChip/bams/302_S2_ChIP.Aligned.sortedByCoord.out.bam\n",
      "Total number of spliced alignments : 0\n",
      "Input bam: /data/parastou/RNAdeg/results/RipChip/bams/301_S2_ChIP.Aligned.sortedByCoord.out.bam\n",
      "Total number of spliced alignments : 0\n",
      "Input bam: /data/parastou/RNAdeg/results/RipChip/bams/638_S2_ChIP.Aligned.sortedByCoord.out.bam\n",
      "Total number of spliced alignments : 0\n",
      "Input bam: /data/parastou/RNAdeg/results/RipChip/bams/1168_S2ChIP_1.Aligned.sortedByCoord.out.bam\n",
      "Total number of spliced alignments : 0\n",
      "Input bam: /data/parastou/RNAdeg/results/RipChip/bams/1168_S2ChIP.Aligned.sortedByCoord.out.bam\n",
      "Total number of spliced alignments : 0\n",
      "Input bam: /data/parastou/RNAdeg/results/RipChip/bams/510_S2ChIP.Aligned.sortedByCoord.out.bam\n",
      "Total number of spliced alignments : 0\n",
      "Removed 49 rRNA genes.\n",
      "Calculated raw counts for 6943 genes.\n",
      "Calculated TMP for 6943 genes.\n",
      "Gene count matrix saved in: /data/parastou/RNAdeg/results/RipChip/xp_data/chip_pombe_gene_count_matrix.csv\n",
      "TPM expression matrix saved in: /data/parastou/RNAdeg/results/RipChip/xp_data/chip_pombe_tpm_matrix.csv\n",
      "Finished successfully!\n"
     ]
    }
   ],
   "source": [
    "# Run GeneExpressionTable\n",
    "gxt = gxt_command()\n",
    "!$gxt"
   ]
  },
  {
   "cell_type": "markdown",
   "metadata": {},
   "source": [
    "----------------"
   ]
  }
 ],
 "metadata": {
  "kernelspec": {
   "display_name": "Python 2",
   "language": "python",
   "name": "python2"
  },
  "language_info": {
   "codemirror_mode": {
    "name": "ipython",
    "version": 2
   },
   "file_extension": ".py",
   "mimetype": "text/x-python",
   "name": "python",
   "nbconvert_exporter": "python",
   "pygments_lexer": "ipython2",
   "version": "2.7.15"
  }
 },
 "nbformat": 4,
 "nbformat_minor": 2
}
