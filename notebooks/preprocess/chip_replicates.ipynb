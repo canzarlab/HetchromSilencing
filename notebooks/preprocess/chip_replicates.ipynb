{
 "cells": [
  {
   "cell_type": "code",
   "execution_count": 1,
   "metadata": {},
   "outputs": [],
   "source": [
    "import os\n",
    "import sys\n",
    "\n",
    "import pandas as pd"
   ]
  },
  {
   "cell_type": "markdown",
   "metadata": {},
   "source": [
    "------------------------------"
   ]
  },
  {
   "cell_type": "code",
   "execution_count": 4,
   "metadata": {},
   "outputs": [],
   "source": [
    "rdg_dir = '/data/parastou/RNAdeg/scripts/'"
   ]
  },
  {
   "cell_type": "code",
   "execution_count": 8,
   "metadata": {},
   "outputs": [],
   "source": [
    "if rdg_dir not in sys.path:\n",
    "    sys.path.append(rdg_dir)"
   ]
  },
  {
   "cell_type": "code",
   "execution_count": 9,
   "metadata": {},
   "outputs": [],
   "source": [
    "import RepTools as rpc"
   ]
  },
  {
   "cell_type": "code",
   "execution_count": 10,
   "metadata": {},
   "outputs": [],
   "source": [
    "from Util import to_log2_tpm"
   ]
  },
  {
   "cell_type": "markdown",
   "metadata": {},
   "source": [
    "---"
   ]
  },
  {
   "cell_type": "code",
   "execution_count": 5,
   "metadata": {},
   "outputs": [],
   "source": [
    "source_dir = '/data/parastou/RNAdeg/results/RipChip/xp_data/'"
   ]
  },
  {
   "cell_type": "code",
   "execution_count": 6,
   "metadata": {},
   "outputs": [],
   "source": [
    "rip_dir = '/data/parastou/RNAdeg/results/RipRna/xp_data/'"
   ]
  },
  {
   "cell_type": "code",
   "execution_count": 7,
   "metadata": {},
   "outputs": [],
   "source": [
    "out_dir = '/data/parastou/RNAdeg/results/RipChip/'"
   ]
  },
  {
   "cell_type": "markdown",
   "metadata": {},
   "source": [
    "------------"
   ]
  },
  {
   "cell_type": "markdown",
   "metadata": {},
   "source": [
    "## Workflow"
   ]
  },
  {
   "cell_type": "markdown",
   "metadata": {},
   "source": [
    "- Calculate log2(tpm +1) of all tpm counts of all samples.\n",
    "- Calculate MA-plot, correlation plot, and pearson correlation score for all replicate pairs.\n",
    "- Group replicates with correlation scores higher than 85%.\n",
    "- Merge replicates groups by taking the mean of tpm values.\n",
    "- Remove 'ncRNA_gene', 'pseudogene', 'rRNA_gene', 'snRNA_gene', 'snoRNA_gene', and 'tRNA_gene' entries from merged results."
   ]
  },
  {
   "cell_type": "markdown",
   "metadata": {},
   "source": [
    "--------------------------"
   ]
  },
  {
   "cell_type": "markdown",
   "metadata": {},
   "source": [
    "### 1 - Prepare output folders"
   ]
  },
  {
   "cell_type": "code",
   "execution_count": 11,
   "metadata": {},
   "outputs": [],
   "source": [
    "out_ma = os.path.join(out_dir, 'MA')\n",
    "out_corr = os.path.join(out_dir, 'CORR')\n",
    "\n",
    "if not os.path.isdir(out_ma):    \n",
    "    !mkdir $out_ma\n",
    "    \n",
    "if not os.path.isdir(out_corr):    \n",
    "    !mkdir $out_corr"
   ]
  },
  {
   "cell_type": "markdown",
   "metadata": {},
   "source": [
    "### 2 - Load raw and tpm-normalized gene expression tables"
   ]
  },
  {
   "cell_type": "code",
   "execution_count": 11,
   "metadata": {},
   "outputs": [],
   "source": [
    "tpm_df = pd.read_csv(os.path.join(source_dir, 'chip_pombe_tpm_matrix.csv'), sep='\\t', comment='#')"
   ]
  },
  {
   "cell_type": "code",
   "execution_count": 12,
   "metadata": {},
   "outputs": [],
   "source": [
    "gx_df = pd.read_csv(os.path.join(source_dir, 'chip_pombe_gene_count_matrix.csv'), sep='\\t', comment='#')"
   ]
  },
  {
   "cell_type": "code",
   "execution_count": 13,
   "metadata": {},
   "outputs": [],
   "source": [
    "log2_tpm_df = to_log2_tpm(tpm_df)"
   ]
  },
  {
   "cell_type": "markdown",
   "metadata": {},
   "source": [
    "----"
   ]
  },
  {
   "cell_type": "markdown",
   "metadata": {},
   "source": [
    "### 3 - Produce correlation plots and pearson-r correlation score for sample pairs."
   ]
  },
  {
   "cell_type": "code",
   "execution_count": 18,
   "metadata": {},
   "outputs": [],
   "source": [
    "rpc.run_corr_checks(log2_tpm_df, out_dir=out_corr)"
   ]
  },
  {
   "cell_type": "markdown",
   "metadata": {},
   "source": [
    "-----------------"
   ]
  },
  {
   "cell_type": "markdown",
   "metadata": {},
   "source": [
    "### 4 - Select replicates to merge based on their pearson-r correlation scores"
   ]
  },
  {
   "cell_type": "code",
   "execution_count": 20,
   "metadata": {},
   "outputs": [],
   "source": [
    "from RepTools import report_corr"
   ]
  },
  {
   "cell_type": "code",
   "execution_count": 30,
   "metadata": {},
   "outputs": [],
   "source": [
    "sub_samples =  [['638_S2_ChIP', '638ChIP_1'] , ['63_S2ChIPp'], ['302_S2ChIP', '302_S2_ChIP'],\n",
    "                ['301_S2_ChIP', '301_S2ChIP'], ['324_S2ChIP', '324_S2_ChIP'], \n",
    "                ['80_S2_ChIP', '80_S2Ph_ChIP', '80S2ChIP_1', '80_S2ChIP_2', '80_S2ChIP'],\n",
    "                ['504S2ChIP_1', '504S2ChIP_2'], ['591_S2PChIP'],\n",
    "                ['491_S2ChIP', '491_S2_ChIP'], ['530ChIP_1', '530S2ChIP_2']]"
   ]
  },
  {
   "cell_type": "code",
   "execution_count": 23,
   "metadata": {},
   "outputs": [],
   "source": [
    "corr_df = pd.read_csv(os.path.join(out_corr, 'correlations.csv'), sep='\\t')"
   ]
  },
  {
   "cell_type": "code",
   "execution_count": 25,
   "metadata": {
    "scrolled": false
   },
   "outputs": [
    {
     "name": "stdout",
     "output_type": "stream",
     "text": [
      "['638_S2_ChIP', '638ChIP_1']\n",
      "     Sample1      Sample2  Correlation  P-value\n",
      "0  638ChIP_1  638_S2_ChIP     0.948376      0.0\n",
      "['1168_S2ChIP', '1168_S2ChIP_1']\n",
      "         Sample1      Sample2  Correlation  P-value\n",
      "0  1168_S2ChIP_1  1168_S2ChIP     0.883966      0.0\n",
      "['63_S2ChIP_2', '63_S2ChIPp']\n",
      "Empty DataFrame\n",
      "Columns: [Sample1, Sample2, Correlation, P-value]\n",
      "Index: []\n",
      "['302_S2ChIP', '302_S2_ChIP']\n",
      "      Sample1      Sample2  Correlation  P-value\n",
      "0  302_S2ChIP  302_S2_ChIP     0.962185      0.0\n",
      "['301_S2_ChIP', '301_S2ChIP']\n",
      "      Sample1      Sample2  Correlation  P-value\n",
      "0  301_S2ChIP  301_S2_ChIP     0.973536      0.0\n",
      "['324_S2ChIP', '324_S2_ChIP']\n",
      "      Sample1      Sample2  Correlation  P-value\n",
      "0  324_S2ChIP  324_S2_ChIP     0.949192      0.0\n",
      "['80_S2_ChIP', '80_S2Ph_ChIP', '80S2ChIP_1', '80_S2ChIP_2', '80_S2ChIP']\n",
      "        Sample1       Sample2  Correlation  P-value\n",
      "0   80_S2ChIP_2     80_S2ChIP     0.960285      0.0\n",
      "1   80_S2ChIP_2  80_S2Ph_ChIP     0.891178      0.0\n",
      "2   80_S2ChIP_2    80S2ChIP_1     0.953352      0.0\n",
      "3   80_S2ChIP_2    80_S2_ChIP     1.000000      0.0\n",
      "4     80_S2ChIP  80_S2Ph_ChIP     0.900585      0.0\n",
      "5     80_S2ChIP    80S2ChIP_1     0.951268      0.0\n",
      "6     80_S2ChIP    80_S2_ChIP     0.960285      0.0\n",
      "7  80_S2Ph_ChIP    80S2ChIP_1     0.892031      0.0\n",
      "8  80_S2Ph_ChIP    80_S2_ChIP     0.891178      0.0\n",
      "9    80S2ChIP_1    80_S2_ChIP     0.953352      0.0\n",
      "['504S2ChIP_1', '504S2ChIP_2']\n",
      "       Sample1      Sample2  Correlation  P-value\n",
      "0  504S2ChIP_1  504S2ChIP_2     0.985433      0.0\n",
      "['591_S2PChIP']\n",
      "Empty DataFrame\n",
      "Columns: [Sample1, Sample2, Correlation, P-value]\n",
      "Index: []\n",
      "['491_S2ChIP', '491_S2_ChIP']\n",
      "      Sample1      Sample2  Correlation  P-value\n",
      "0  491_S2ChIP  491_S2_ChIP     0.948448      0.0\n",
      "['530ChIP_1', '530S2ChIP_2']\n",
      "     Sample1      Sample2  Correlation  P-value\n",
      "0  530ChIP_1  530S2ChIP_2     0.961874      0.0\n"
     ]
    }
   ],
   "source": [
    "for s in sub_samples:\n",
    "    a = report_corr(corr_df, s)\n",
    "    print(s)\n",
    "    print(a)"
   ]
  },
  {
   "cell_type": "markdown",
   "metadata": {},
   "source": [
    "### 6 - Merge replicates."
   ]
  },
  {
   "cell_type": "code",
   "execution_count": 14,
   "metadata": {},
   "outputs": [],
   "source": [
    "sub_samples =  [['638_S2_ChIP', '638ChIP_1'] ,['1168_S2ChIP', '1168_S2ChIP_1'], \n",
    "                ['63_S2ChIPp'], ['302_S2ChIP', '302_S2_ChIP'],\n",
    "                ['301_S2_ChIP', '301_S2ChIP'], ['324_S2ChIP', '324_S2_ChIP'],\n",
    "                ['80_S2_ChIP', '80S2ChIP_1', '80_S2ChIP_2', '80_S2ChIP'],\n",
    "                ['504S2ChIP_1', '504S2ChIP_2'], ['591_S2PChIP'],\n",
    "                ['491_S2ChIP', '491_S2_ChIP'], ['530ChIP_1', '530S2ChIP_2']]"
   ]
  },
  {
   "cell_type": "code",
   "execution_count": 15,
   "metadata": {},
   "outputs": [],
   "source": [
    "col_names = ['638_ChIP', '1160_ChIP', 'WT_ChIP', '302_ChIP', '301_ChIP', '324_ChIP', \n",
    "             '80_ChIP', '504_ChIP', '591_ChIP', '491_ChIP', '530_ChIP']"
   ]
  },
  {
   "cell_type": "code",
   "execution_count": 16,
   "metadata": {},
   "outputs": [],
   "source": [
    "merged_df = rpc.repli_merge(gx_df, sub_samples, new_cols=col_names, out_dir=source_dir, out_file='chip_pombe_gene_count_merged.csv')"
   ]
  },
  {
   "cell_type": "markdown",
   "metadata": {},
   "source": [
    "### 7 - Average TPM-normalized expression tables for replicates."
   ]
  },
  {
   "cell_type": "code",
   "execution_count": 17,
   "metadata": {},
   "outputs": [],
   "source": [
    "merged_tpm_df = rpc.repli_merge(tpm_df, sub_samples, new_cols=col_names, out_dir=source_dir, out_file='chip_pombe_tpm_merged.csv')"
   ]
  },
  {
   "cell_type": "markdown",
   "metadata": {},
   "source": [
    "------"
   ]
  }
 ],
 "metadata": {
  "kernelspec": {
   "display_name": "Python 2",
   "language": "python",
   "name": "python2"
  },
  "language_info": {
   "codemirror_mode": {
    "name": "ipython",
    "version": 2
   },
   "file_extension": ".py",
   "mimetype": "text/x-python",
   "name": "python",
   "nbconvert_exporter": "python",
   "pygments_lexer": "ipython2",
   "version": "2.7.15"
  }
 },
 "nbformat": 4,
 "nbformat_minor": 1
}
