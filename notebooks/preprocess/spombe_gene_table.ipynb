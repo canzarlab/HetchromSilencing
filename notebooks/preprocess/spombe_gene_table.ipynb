{
 "cells": [
  {
   "cell_type": "code",
   "execution_count": 1,
   "metadata": {},
   "outputs": [],
   "source": [
    "import os\n",
    "\n",
    "import pandas as pd"
   ]
  },
  {
   "cell_type": "code",
   "execution_count": 3,
   "metadata": {},
   "outputs": [],
   "source": [
    "pd.options.mode.chained_assignment = None"
   ]
  },
  {
   "cell_type": "markdown",
   "metadata": {},
   "source": [
    "---------------------------"
   ]
  },
  {
   "cell_type": "code",
   "execution_count": 4,
   "metadata": {},
   "outputs": [],
   "source": [
    "annot_dir = '/data/parastou/RNAdeg/annotation/'"
   ]
  },
  {
   "cell_type": "code",
   "execution_count": 5,
   "metadata": {
    "collapsed": true
   },
   "outputs": [],
   "source": [
    "in_gff = os.path.join(annot_dir, 'schizosaccharomyces_pombe.chr.extended.gff3')\n",
    "in_lengths = os.path.join(annot_dir, 'schizosaccharomyces_pombe.gene_lengths.V2.csv')"
   ]
  },
  {
   "cell_type": "code",
   "execution_count": 6,
   "metadata": {
    "collapsed": true
   },
   "outputs": [],
   "source": [
    "def gff_to_gdf(in_gff):\n",
    "    \n",
    "    columns = ['chr','1','type','start','end','2','3','4','info']\n",
    "    \n",
    "    df = pd.read_csv(in_gff, sep='\\t', comment='#', names=columns)\n",
    "    df = df[['chr', 'type', 'start', 'end', 'info']]\n",
    "    df = df[df['type'].str.contains('gene')]\n",
    "        \n",
    "    df['gene-id'] = df['info'].apply(lambda x: x.split('=gene:')[1].split(';')[0].strip(' \";,'))  \n",
    "    df['gene-name'] = df['info'].apply(lambda x: x.split(';Name=')[1].split(';')[0].strip(' \";,'))\n",
    "    df['bio_type'] = df['info'].apply(lambda x: x.split(';biotype=')[1].split(';')[0].strip(' \";,'))\n",
    "    \n",
    "    df = df[['gene-id', 'gene-name', 'chr','type','start','end', 'bio_type']]\n",
    "    \n",
    "    return df    "
   ]
  },
  {
   "cell_type": "markdown",
   "metadata": {},
   "source": [
    "-----------------------"
   ]
  },
  {
   "cell_type": "markdown",
   "metadata": {},
   "source": [
    "### Create gene-specification table from .gff file "
   ]
  },
  {
   "cell_type": "code",
   "execution_count": 7,
   "metadata": {},
   "outputs": [],
   "source": [
    "df = gff_to_gdf(in_gff)"
   ]
  },
  {
   "cell_type": "code",
   "execution_count": 8,
   "metadata": {},
   "outputs": [],
   "source": [
    "l_df = pd.read_csv(in_lengths, sep='\\t')\n",
    "l_df = l_df[['gene-id', 'length']]"
   ]
  },
  {
   "cell_type": "markdown",
   "metadata": {},
   "source": [
    "### Add length information"
   ]
  },
  {
   "cell_type": "code",
   "execution_count": 9,
   "metadata": {},
   "outputs": [],
   "source": [
    "df = df.merge(l_df, on=['gene-id'], how='outer')"
   ]
  },
  {
   "cell_type": "code",
   "execution_count": 10,
   "metadata": {
    "collapsed": true
   },
   "outputs": [],
   "source": [
    "import math"
   ]
  },
  {
   "cell_type": "code",
   "execution_count": 11,
   "metadata": {},
   "outputs": [],
   "source": [
    "for index, row in df.iterrows():\n",
    "    \n",
    "    if math.isnan(row['length']):\n",
    "        df.loc[index, 'length'] = row['end'] - row['start']       "
   ]
  },
  {
   "cell_type": "markdown",
   "metadata": {},
   "source": [
    "### Add category column"
   ]
  },
  {
   "cell_type": "code",
   "execution_count": 12,
   "metadata": {},
   "outputs": [],
   "source": [
    "columns = ['chr','1','type','start','end','2','3','4','info']\n",
    "rep_df = pd.read_csv(os.path.join(annot_dir, 'repeats_subtelI_dg_dh_V2'), sep='\\t', names=columns)\n",
    "rep_df['gene-name'] = rep_df['info'].apply(lambda x: x.split(';Name=')[1].split(';')[0].strip(' \";,'))"
   ]
  },
  {
   "cell_type": "code",
   "execution_count": 13,
   "metadata": {},
   "outputs": [],
   "source": [
    "repeat_names = list(rep_df['gene-name'])"
   ]
  },
  {
   "cell_type": "code",
   "execution_count": 14,
   "metadata": {
    "collapsed": true
   },
   "outputs": [],
   "source": [
    "def category(gene):\n",
    "    \n",
    "    if 'rpl' in gene or 'rps' in gene:\n",
    "        return 'ribosomal'\n",
    "    elif gene in repeat_names:\n",
    "        return 'repeat'\n",
    "    else:\n",
    "        return 'gene'"
   ]
  },
  {
   "cell_type": "code",
   "execution_count": 15,
   "metadata": {
    "collapsed": true
   },
   "outputs": [],
   "source": [
    "df['category'] = df['gene-name'].apply(lambda x: category(x))"
   ]
  },
  {
   "cell_type": "code",
   "execution_count": null,
   "metadata": {
    "collapsed": true
   },
   "outputs": [],
   "source": [
    "df = df.drop_duplicates()"
   ]
  },
  {
   "cell_type": "markdown",
   "metadata": {},
   "source": [
    "### Remove redundant columns "
   ]
  },
  {
   "cell_type": "code",
   "execution_count": null,
   "metadata": {
    "collapsed": true
   },
   "outputs": [],
   "source": [
    "duplicates = []\n",
    "g = df.groupby(['start', 'end'])\n",
    "for s, group in g:\n",
    "    if len(group['gene-name']) > 1:\n",
    "        ## IMPORTANT: manualy check the duplicates\n",
    "        duplicates.append(list(group['gene-name'])[1])"
   ]
  },
  {
   "cell_type": "code",
   "execution_count": 29,
   "metadata": {},
   "outputs": [],
   "source": [
    "df = df[~df['gene-name'].isin(duplicates)]"
   ]
  },
  {
   "cell_type": "markdown",
   "metadata": {},
   "source": [
    "###  Save PombeGene table"
   ]
  },
  {
   "cell_type": "code",
   "execution_count": 32,
   "metadata": {},
   "outputs": [],
   "source": [
    "df.to_csv(os.path.join(annot_dir, 'schizosaccharomyces_pombe.chr.extended.csv'), sep='\\t', index=None)"
   ]
  }
 ],
 "metadata": {
  "kernelspec": {
   "display_name": "Python 2",
   "language": "python",
   "name": "python2"
  },
  "language_info": {
   "codemirror_mode": {
    "name": "ipython",
    "version": 2
   },
   "file_extension": ".py",
   "mimetype": "text/x-python",
   "name": "python",
   "nbconvert_exporter": "python",
   "pygments_lexer": "ipython2",
   "version": "2.7.15"
  }
 },
 "nbformat": 4,
 "nbformat_minor": 2
}
