{
 "cells": [
  {
   "cell_type": "code",
   "execution_count": 1,
   "metadata": {},
   "outputs": [],
   "source": [
    "import os\n",
    "\n",
    "import pysam\n",
    "import pandas as pd"
   ]
  },
  {
   "cell_type": "markdown",
   "metadata": {},
   "source": [
    "----"
   ]
  },
  {
   "cell_type": "code",
   "execution_count": 4,
   "metadata": {},
   "outputs": [],
   "source": [
    "def count_rRNAs(alignment_file, iterator):\n",
    "    \n",
    "    rRNA_counts = 0\n",
    "\n",
    "    for ch, start, end in iterator:\n",
    "        \n",
    "        for read in alignment_file.fetch(region=ch, start=start, end=end):\n",
    "            \n",
    "            nh = read.get_tag('NH')\n",
    "            inc = 1 / nh\n",
    "            rRNA_counts += inc\n",
    "                \n",
    "    return round(rRNA_counts,2)"
   ]
  },
  {
   "cell_type": "code",
   "execution_count": 5,
   "metadata": {},
   "outputs": [],
   "source": [
    "def count_mapped(alignment_file):\n",
    "    \n",
    "    total = 0\n",
    "    for read in alignment_file.fetch(until_eof=True):\n",
    "            \n",
    "        nh = read.get_tag('NH')\n",
    "        inc = 1 / nh\n",
    "        total += inc\n",
    "                \n",
    "    return round(total,2)"
   ]
  },
  {
   "cell_type": "code",
   "execution_count": 6,
   "metadata": {},
   "outputs": [],
   "source": [
    "def bed_coverage_dict(in_bed):\n",
    "    \n",
    "    cov_dict = {}\n",
    "    with open(in_bed) as itc:\n",
    "        for line in itc:\n",
    "            ls = line.split('\\t')\n",
    "            ch = ls[0].strip(' ')\n",
    "            pos = ls[1].strip(' ')\n",
    "            val = 0\n",
    "            key = ch + ':' + pos\n",
    "            cov_dict[key] = 0\n",
    "            \n",
    "    return cov_dict"
   ]
  },
  {
   "cell_type": "code",
   "execution_count": 7,
   "metadata": {},
   "outputs": [],
   "source": [
    "def generate_coverage_dict(alignmentFile, in_bed):\n",
    "\n",
    "    coverage_dict = bed_coverage_dict(in_bed)\n",
    "\n",
    "    for read in alignmentFile.fetch(until_eof=True):\n",
    "\n",
    "        nh = read.get_tag('NH')\n",
    "        inc = 1.0 / nh\n",
    "        ch = read.reference_name\n",
    "        blocks = read.get_blocks()\n",
    "        \n",
    "        for start, end in blocks:\n",
    "            update_coverage_dict(coverage_dict, ch, start + 1, end + 1, inc)\n",
    "        \n",
    "    return coverage_dict"
   ]
  },
  {
   "cell_type": "code",
   "execution_count": 8,
   "metadata": {},
   "outputs": [],
   "source": [
    "def update_coverage_dict(coverage_dict, ch, start, end, inc):\n",
    "    \n",
    "    for i in range(start, end):\n",
    "        key = ch + ':' + str(i)\n",
    "        coverage_dict[key] += inc"
   ]
  },
  {
   "cell_type": "code",
   "execution_count": 9,
   "metadata": {},
   "outputs": [],
   "source": [
    "def write_coverage_file(coverage_dict, out_file):\n",
    "    \n",
    "    with open(out_file, 'w+') as out:\n",
    "\n",
    "        for coord, item in coverage_dict.items():\n",
    "\n",
    "            ch = coord.split(':')[0]\n",
    "            pos = coord.split(':')[1]\n",
    "            line = ch + '\\t' + str(pos) + '\\t' + str(round(item, 2)) + '\\n'\n",
    "            out.write(line)    "
   ]
  },
  {
   "cell_type": "markdown",
   "metadata": {},
   "source": [
    "-----"
   ]
  },
  {
   "cell_type": "markdown",
   "metadata": {},
   "source": [
    "### Step 1 : calculate coverages for bam files"
   ]
  },
  {
   "cell_type": "code",
   "execution_count": 10,
   "metadata": {},
   "outputs": [],
   "source": [
    "in_bed = '/data/parastou/RNAdeg/CoveragePlots/coverage_scaffold.txt'"
   ]
  },
  {
   "cell_type": "code",
   "execution_count": 11,
   "metadata": {},
   "outputs": [],
   "source": [
    "bam_dir = '/data/parastou/RNAdeg/results/RipRna/coverage_bams/'"
   ]
  },
  {
   "cell_type": "code",
   "execution_count": 12,
   "metadata": {},
   "outputs": [],
   "source": [
    "out_dir = '/data/parastou/RNAdeg/CoveragePlots/RNA/'"
   ]
  },
  {
   "cell_type": "markdown",
   "metadata": {},
   "source": [
    "#### Load gene annotation data frame and generate rRNA iterator"
   ]
  },
  {
   "cell_type": "code",
   "execution_count": 13,
   "metadata": {},
   "outputs": [],
   "source": [
    "in_gdf = pd.read_csv('/data/parastou/RNAdeg/annotation/schizosaccharomyces_pombe.chr.extended.csv', sep='\\t')"
   ]
  },
  {
   "cell_type": "code",
   "execution_count": 14,
   "metadata": {},
   "outputs": [],
   "source": [
    "rRNA_iter = in_gdf[in_gdf['bio_type']=='rRNA'][['chr', 'start', 'end']].values"
   ]
  },
  {
   "cell_type": "markdown",
   "metadata": {},
   "source": [
    "#### Calculate coverages"
   ]
  },
  {
   "cell_type": "code",
   "execution_count": null,
   "metadata": {
    "scrolled": true
   },
   "outputs": [],
   "source": [
    "for file in os.listdir(bam_dir):\n",
    "    \n",
    "    if file.endswith('.bam'):\n",
    "        \n",
    "        base_name = file.split('.')[0]\n",
    "        in_path = os.path.join(bam_dir, file)\n",
    "        suffix = ''\n",
    "        if 'forward' in file:\n",
    "            suffix = '.forward'\n",
    "        elif 'reverse' in file:\n",
    "            suffix = '.reverse'\n",
    "\n",
    "        out_path = os.path.join(out_dir, base_name + suffix + '.txt')\n",
    "        out_norm_path = os.path.join(out_dir, base_name + suffix + '.norm.txt')\n",
    "\n",
    "        print('bam file : %s ...' % in_path)\n",
    "\n",
    "        ## Load a bam file and create coverage information for mapped regions\n",
    "        st = pysam.AlignmentFile(open(in_path, 'rb'))      \n",
    "        coverage_dict = generate_coverage_dict(st, in_bed)\n",
    "\n",
    "        ## Merge coverage information into a new file\n",
    "        write_coverage_file(coverage_dict, out_path)\n",
    "        print('Coverage file saved in %s.' % out_path)\n",
    "\n",
    "        ## Normalize coverages\n",
    "        ## Calculate rRNA counts for this file\n",
    "        st = pysam.AlignmentFile(open(in_path, 'rb'))  \n",
    "        rrna_counts = count_rRNAs(st, rRNA_iter)\n",
    "        print('Bam file contains %d alignments mapping to rRNAs.' % int(rrna_counts))\n",
    "\n",
    "        ## Load coverage file and normalize\n",
    "        df = pd.read_csv(out_path, sep='\\t', names=range(3))\n",
    "        st = pysam.AlignmentFile(open(in_path, 'rb')) \n",
    "        total = count_mapped(st)\n",
    "        total -= rrna_counts\n",
    "        scaling_factor = (total / 1000000)\n",
    "        df[2] = round(df[2] / scaling_factor, 2)\n",
    "        df.to_csv(out_norm_path, sep='\\t', index=None, header=None)\n",
    "        print('Normalized coverage file saved in %s.' % out_norm_path)"
   ]
  },
  {
   "cell_type": "markdown",
   "metadata": {},
   "source": [
    "---"
   ]
  }
 ],
 "metadata": {
  "kernelspec": {
   "display_name": "Python 2",
   "language": "python",
   "name": "python2"
  },
  "language_info": {
   "codemirror_mode": {
    "name": "ipython",
    "version": 2
   },
   "file_extension": ".py",
   "mimetype": "text/x-python",
   "name": "python",
   "nbconvert_exporter": "python",
   "pygments_lexer": "ipython2",
   "version": "2.7.15"
  }
 },
 "nbformat": 4,
 "nbformat_minor": 2
}
