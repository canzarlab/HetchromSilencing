{
 "cells": [
  {
   "cell_type": "code",
   "execution_count": 1,
   "metadata": {},
   "outputs": [],
   "source": [
    "import pandas as pd"
   ]
  },
  {
   "cell_type": "code",
   "execution_count": 2,
   "metadata": {},
   "outputs": [],
   "source": [
    "import os"
   ]
  },
  {
   "cell_type": "code",
   "execution_count": 3,
   "metadata": {},
   "outputs": [],
   "source": [
    "import sys"
   ]
  },
  {
   "cell_type": "code",
   "execution_count": 4,
   "metadata": {},
   "outputs": [],
   "source": [
    "%load_ext autoreload\n",
    "%autoreload 2"
   ]
  },
  {
   "cell_type": "markdown",
   "metadata": {},
   "source": [
    "------------------------------"
   ]
  },
  {
   "cell_type": "code",
   "execution_count": 5,
   "metadata": {},
   "outputs": [],
   "source": [
    "rdg_dir = '/data/parastou/RNAdeg/pyRNAdeg/'"
   ]
  },
  {
   "cell_type": "code",
   "execution_count": 6,
   "metadata": {},
   "outputs": [],
   "source": [
    "rip_dir = '/data/parastou/RNAdeg/results/RipRna/xp_data/'"
   ]
  },
  {
   "cell_type": "code",
   "execution_count": 7,
   "metadata": {},
   "outputs": [],
   "source": [
    "if rdg_dir not in sys.path:\n",
    "    sys.path.append(rdg_dir)"
   ]
  },
  {
   "cell_type": "code",
   "execution_count": 8,
   "metadata": {},
   "outputs": [],
   "source": [
    "import Util"
   ]
  },
  {
   "cell_type": "markdown",
   "metadata": {},
   "source": [
    "--------------------------"
   ]
  },
  {
   "cell_type": "markdown",
   "metadata": {},
   "source": [
    "### 1 - Load TPM-normalized gene expression table."
   ]
  },
  {
   "cell_type": "code",
   "execution_count": 11,
   "metadata": {},
   "outputs": [],
   "source": [
    "df = pd.read_csv(os.path.join(rip_dir, 'merged_tpm.csv'), sep='\\t', comment='#')"
   ]
  },
  {
   "cell_type": "code",
   "execution_count": 12,
   "metadata": {},
   "outputs": [],
   "source": [
    "df = df[(df['category']=='repeat') | (df['type']=='gene')]"
   ]
  },
  {
   "cell_type": "markdown",
   "metadata": {},
   "source": [
    "### 2 - Calculate and save the ratio (mu/wt) table."
   ]
  },
  {
   "cell_type": "code",
   "execution_count": 15,
   "metadata": {},
   "outputs": [],
   "source": [
    "denum = 'WT_RIP'\n",
    "enum = ['1160_RIP', '301_RIP', '302_RIP', '324_RIP', '491_RIP', '504_RIP', '510_RIP',\n",
    "       '530_RIP', '638_RIP', '80_RIP']\n",
    "pairs = [ (x, denum) for x in enum]\n",
    "col_names = ['1160', '301', '302', '324', '491', '504', '510', '530', '638', '80']"
   ]
  },
  {
   "cell_type": "code",
   "execution_count": 16,
   "metadata": {},
   "outputs": [],
   "source": [
    "te_table = Util.ratio_table(df, pairs, new_cols=col_names, out_dir=rip_dir, file_name='riprip_wt_ratios.csv')"
   ]
  },
  {
   "cell_type": "code",
   "execution_count": 17,
   "metadata": {},
   "outputs": [
    {
     "name": "stderr",
     "output_type": "stream",
     "text": [
      "/data/parastou/RNAdeg/pyRNAdeg/Util.py:55: SettingWithCopyWarning: \n",
      "A value is trying to be set on a copy of a slice from a DataFrame.\n",
      "Try using .loc[row_indexer,col_indexer] = value instead\n",
      "\n",
      "See the caveats in the documentation: http://pandas.pydata.org/pandas-docs/stable/indexing.html#indexing-view-versus-copy\n",
      "  new_df[col] = new_df[col].apply(lambda x: log((x + shift), 2))\n"
     ]
    },
    {
     "name": "stdout",
     "output_type": "stream",
     "text": [
      "10 columns contained zero values. Their log-transformed results are NaNs\n"
     ]
    }
   ],
   "source": [
    "# Calculate the log2(tpm) of tpm table for later reference.\n",
    "l2_te_table = Util.to_log2_tpm(te_table, shift=0)"
   ]
  },
  {
   "cell_type": "code",
   "execution_count": 18,
   "metadata": {},
   "outputs": [],
   "source": [
    "l2_te_table.to_csv(os.path.join(rip_dir, 'riprip_wt_l2_ratios.csv'), sep='\\t', index=None)"
   ]
  },
  {
   "cell_type": "markdown",
   "metadata": {},
   "source": [
    "----"
   ]
  },
  {
   "cell_type": "markdown",
   "metadata": {},
   "source": [
    "### 3 - Calculate and save the ratio (mu/clr4D) table."
   ]
  },
  {
   "cell_type": "code",
   "execution_count": 20,
   "metadata": {},
   "outputs": [],
   "source": [
    "denum = '80_RIP'\n",
    "enum = ['1160_RIP', '301_RIP', '302_RIP', '324_RIP', '491_RIP', '504_RIP', '510_RIP',\n",
    "       '530_RIP', '638_RIP', 'WT_RIP']\n",
    "pairs = [ (x, denum) for x in enum]\n",
    "col_names = ['1160', '301', '302', '324', '491', '504', '510', '530', '638', 'WT']"
   ]
  },
  {
   "cell_type": "code",
   "execution_count": 21,
   "metadata": {},
   "outputs": [],
   "source": [
    "te_table = Util.ratio_table(df, pairs, new_cols=col_names, out_dir=rip_dir, file_name='riprip_clr4_ratios.csv')"
   ]
  },
  {
   "cell_type": "code",
   "execution_count": 22,
   "metadata": {},
   "outputs": [
    {
     "name": "stderr",
     "output_type": "stream",
     "text": [
      "/data/parastou/RNAdeg/pyRNAdeg/Util.py:55: SettingWithCopyWarning: \n",
      "A value is trying to be set on a copy of a slice from a DataFrame.\n",
      "Try using .loc[row_indexer,col_indexer] = value instead\n",
      "\n",
      "See the caveats in the documentation: http://pandas.pydata.org/pandas-docs/stable/indexing.html#indexing-view-versus-copy\n",
      "  new_df[col] = new_df[col].apply(lambda x: log((x + shift), 2))\n"
     ]
    },
    {
     "name": "stdout",
     "output_type": "stream",
     "text": [
      "10 columns contained zero values. Their log-transformed results are NaNs\n"
     ]
    }
   ],
   "source": [
    "# Calculate the log2(tpm) of tpm table for later reference.\n",
    "l2_te_table = Util.to_log2_tpm(te_table, shift=0)"
   ]
  },
  {
   "cell_type": "code",
   "execution_count": 23,
   "metadata": {},
   "outputs": [],
   "source": [
    "l2_te_table.to_csv(os.path.join(rip_dir, 'riprip_clr4_l2_ratios.csv'), sep='\\t', index=None)"
   ]
  },
  {
   "cell_type": "code",
   "execution_count": null,
   "metadata": {},
   "outputs": [],
   "source": []
  }
 ],
 "metadata": {
  "kernelspec": {
   "display_name": "Python 3",
   "language": "python",
   "name": "python3"
  },
  "language_info": {
   "codemirror_mode": {
    "name": "ipython",
    "version": 3
   },
   "file_extension": ".py",
   "mimetype": "text/x-python",
   "name": "python",
   "nbconvert_exporter": "python",
   "pygments_lexer": "ipython3",
   "version": "3.6.7"
  }
 },
 "nbformat": 4,
 "nbformat_minor": 1
}
