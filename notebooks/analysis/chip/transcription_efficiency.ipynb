{
 "cells": [
  {
   "cell_type": "code",
   "execution_count": 11,
   "metadata": {},
   "outputs": [],
   "source": [
    "import os\n",
    "import sys\n",
    "\n",
    "import pandas as pd"
   ]
  },
  {
   "cell_type": "markdown",
   "metadata": {},
   "source": [
    "------------------------------"
   ]
  },
  {
   "cell_type": "code",
   "execution_count": 15,
   "metadata": {},
   "outputs": [],
   "source": [
    "rdg_dir = '/data/parastou/RNAdeg/scripts/'"
   ]
  },
  {
   "cell_type": "code",
   "execution_count": 18,
   "metadata": {},
   "outputs": [],
   "source": [
    "if rdg_dir not in sys.path:\n",
    "    sys.path.append(rdg_dir)"
   ]
  },
  {
   "cell_type": "code",
   "execution_count": 19,
   "metadata": {},
   "outputs": [],
   "source": [
    "import Util"
   ]
  },
  {
   "cell_type": "markdown",
   "metadata": {},
   "source": [
    "---"
   ]
  },
  {
   "cell_type": "code",
   "execution_count": 16,
   "metadata": {},
   "outputs": [],
   "source": [
    "source_dir = '/data/parastou/RNAdeg/results/RipChip/xp_data/'"
   ]
  },
  {
   "cell_type": "code",
   "execution_count": 22,
   "metadata": {},
   "outputs": [],
   "source": [
    "rna_dir = '/data/parastou/RNAdeg/results/RipRna/xp_data/'"
   ]
  },
  {
   "cell_type": "markdown",
   "metadata": {},
   "source": [
    "--------------------------"
   ]
  },
  {
   "cell_type": "markdown",
   "metadata": {},
   "source": [
    "## Transcription Efficiency workflow"
   ]
  },
  {
   "cell_type": "markdown",
   "metadata": {},
   "source": [
    "- Load tpm data for pairs.\n",
    "- Calculate ratios: tpm(RIP)/tpm(ChIP)."
   ]
  },
  {
   "cell_type": "markdown",
   "metadata": {},
   "source": [
    "-------------"
   ]
  },
  {
   "cell_type": "markdown",
   "metadata": {},
   "source": [
    "### 1 - Load TPM-normalized gene expression tables."
   ]
  },
  {
   "cell_type": "code",
   "execution_count": 20,
   "metadata": {},
   "outputs": [],
   "source": [
    "chip_df = pd.read_csv(os.path.join(source_dir, 'chip_pombe_tpm_merged.csv'), sep='\\t')"
   ]
  },
  {
   "cell_type": "code",
   "execution_count": 23,
   "metadata": {},
   "outputs": [],
   "source": [
    "rna_df = pd.read_csv(os.path.join(rna_dir, 'merged_tpm.csv'), sep='\\t')"
   ]
  },
  {
   "cell_type": "code",
   "execution_count": 34,
   "metadata": {},
   "outputs": [],
   "source": [
    "tpm_df = pd.merge(chip_df, rna_df, on=['gene-id', 'gene-name', 'type', 'category', 'bio_type'], how='outer')"
   ]
  },
  {
   "cell_type": "code",
   "execution_count": 38,
   "metadata": {},
   "outputs": [],
   "source": [
    "tpm_df = tpm_df[tpm_df['type']!='rRNA_gene']"
   ]
  },
  {
   "cell_type": "code",
   "execution_count": 40,
   "metadata": {},
   "outputs": [],
   "source": [
    "pairs = [('1160_RIP', '1160_ChIP'), ('301_RIP', '301_ChIP'), ('302_RIP', '302_ChIP'), ('324_RIP', '324_ChIP'), \n",
    "         ('491_RIP', '491_ChIP'), ('504_RIP', '504_ChIP'), ('510_RIP', '510_ChIP'), ('530_RIP', '530_ChIP'), \n",
    "         ('638_RIP', '638_ChIP'), ('80_RIP', '80_ChIP'), ('WT_RIP', 'WT_ChIP')]"
   ]
  },
  {
   "cell_type": "code",
   "execution_count": 47,
   "metadata": {},
   "outputs": [],
   "source": [
    "tpm_df.columns = ['gene-id', 'gene-name', 'type', 'category', 'bio_type', '638_ChIP',\n",
    "                   '1160_ChIP', 'WT_ChIP', '302_ChIP', '301_ChIP', '324_ChIP', '80_ChIP',\n",
    "                   '504_ChIP', '510_ChIP', '491_ChIP', '530_ChIP', '1160_RIP', '1160_RNA',\n",
    "                   '301_RIP', '301_RNA', '302_RIP', '302_RNA', '324_RIP', '324_RNA',\n",
    "                   '491_RIP', '491_RNA', '504_RIP', '504_RNA', '510_RIP', '510_RNA',\n",
    "                   '530_RIP', '530_RNA', '638_RIP', '638_RNA', '80_RIP', '80_RNA',\n",
    "                   'WT_RIP', 'WT_RNA', '1160', '301', '302', '324', '491', '504']"
   ]
  },
  {
   "cell_type": "markdown",
   "metadata": {},
   "source": [
    "---"
   ]
  },
  {
   "cell_type": "code",
   "execution_count": 13,
   "metadata": {},
   "outputs": [],
   "source": [
    "rep_tpm_df = tpm_df[tpm_df['category']=='repeat']"
   ]
  },
  {
   "cell_type": "code",
   "execution_count": 14,
   "metadata": {},
   "outputs": [],
   "source": [
    "rep_tpm_df.to_csv(os.path.join(source_dir, 'repeats_tpm.csv'), sep='\\t', index=None)"
   ]
  },
  {
   "cell_type": "markdown",
   "metadata": {},
   "source": [
    "------"
   ]
  },
  {
   "cell_type": "markdown",
   "metadata": {},
   "source": [
    "### 2 - Calculate and save the ratio (RIP/ChIP) table."
   ]
  },
  {
   "cell_type": "code",
   "execution_count": 43,
   "metadata": {},
   "outputs": [],
   "source": [
    "col_names = ['1160', '301', '302', '324', '491', '504', '510', '530', '638', '80', 'WT']"
   ]
  },
  {
   "cell_type": "code",
   "execution_count": 48,
   "metadata": {},
   "outputs": [],
   "source": [
    "te_table = Util.ratio_table(tpm_df, pairs, new_cols=col_names, out_dir=source_dir, \n",
    "                            file_name='transcription_efficiency.csv')"
   ]
  },
  {
   "cell_type": "markdown",
   "metadata": {},
   "source": [
    "--------"
   ]
  },
  {
   "cell_type": "code",
   "execution_count": 49,
   "metadata": {},
   "outputs": [
    {
     "name": "stderr",
     "output_type": "stream",
     "text": [
      "/data/parastou/RNAdeg/pyRNAdeg/Util.py:55: SettingWithCopyWarning: \n",
      "A value is trying to be set on a copy of a slice from a DataFrame.\n",
      "Try using .loc[row_indexer,col_indexer] = value instead\n",
      "\n",
      "See the caveats in the documentation: http://pandas.pydata.org/pandas-docs/stable/indexing.html#indexing-view-versus-copy\n",
      "  new_df[col] = new_df[col].apply(lambda x: log((x + shift), 2))\n"
     ]
    },
    {
     "name": "stdout",
     "output_type": "stream",
     "text": [
      "11 columns contained zero values. Their log-transformed results are NaNs\n"
     ]
    }
   ],
   "source": [
    "# Calculate the log2(tpm) of tpm table for later reference.\n",
    "l2_te_table = Util.to_log2_tpm(te_table, shift=0)"
   ]
  },
  {
   "cell_type": "code",
   "execution_count": 50,
   "metadata": {},
   "outputs": [],
   "source": [
    "l2_te_table.to_csv(os.path.join(source_dir, 'l2_te_0shift.csv'), sep='\\t', index=None)"
   ]
  },
  {
   "cell_type": "markdown",
   "metadata": {},
   "source": [
    "----"
   ]
  },
  {
   "cell_type": "code",
   "execution_count": 20,
   "metadata": {},
   "outputs": [],
   "source": [
    "# Extract and save repeats ratio table.\n",
    "rep_te_table = te_table[te_table['category']=='repeat']"
   ]
  },
  {
   "cell_type": "code",
   "execution_count": 21,
   "metadata": {},
   "outputs": [],
   "source": [
    "rep_te_table.to_csv(os.path.join(source_dir, 'repeats_ratios.csv'), sep='\\t', index=None)"
   ]
  },
  {
   "cell_type": "markdown",
   "metadata": {},
   "source": [
    "-------------"
   ]
  }
 ],
 "metadata": {
  "kernelspec": {
   "display_name": "Python 2",
   "language": "python",
   "name": "python2"
  },
  "language_info": {
   "codemirror_mode": {
    "name": "ipython",
    "version": 2
   },
   "file_extension": ".py",
   "mimetype": "text/x-python",
   "name": "python",
   "nbconvert_exporter": "python",
   "pygments_lexer": "ipython2",
   "version": "2.7.15"
  }
 },
 "nbformat": 4,
 "nbformat_minor": 1
}
